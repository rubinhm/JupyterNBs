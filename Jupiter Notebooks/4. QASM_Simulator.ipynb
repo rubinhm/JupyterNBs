{
 "cells": [
  {
   "cell_type": "markdown",
   "id": "18129218-e69a-4b39-88dd-0ec8c945c872",
   "metadata": {
    "tags": []
   },
   "source": [
    "# 4. QASM-Simulator\n",
    "\n",
    "Ein Quantenschaltkreis kann entweder zur Berechnung an einen echten Quantencomputer geschickt werden oder aber von einem Quantensimulator berechnet/ausgewertet werden. \n",
    "\n",
    "Der QASM-Simulator ist ein von Qiskit bereitgestellter Simulator, der den Quantenschaltkreis ausführt und seine Ergebnisse misst. Er ist vor allem nützlich, wenn der Quantenschaltkreis Messanweisungen für Qubits enthält. Der QasmSimulator bietet verschiedene Simulations- und Konfigurationsmöglichkeiten, welche als Schlüsselargumente (kwargs) der Funktion übergeben werden.\n",
    "\n",
    "Näheres erfahren Sie hier:\n",
    "[Qiskit-Referenz](https://qiskit.github.io/qiskit-aer/stubs/qiskit_aer.QasmSimulator.html)\n",
    "\n",
    "Der QASM-Simulator gehört zu dem Python basierten Modul *BasicAer*, das hier als erstes von Qiskit importiert wird und der anschliessend als Backend festgelegt wird ([Referenz](https://docs.quantum.ibm.com/api/qiskit/0.19/providers_basicaer)):\n"
   ]
  },
  {
   "cell_type": "code",
   "execution_count": 1,
   "id": "d6b89597-dc1d-4e34-9d2e-9ac137097052",
   "metadata": {
    "tags": []
   },
   "outputs": [],
   "source": [
    "from qiskit import BasicAer\n",
    "backend = BasicAer.get_backend('qasm_simulator')"
   ]
  },
  {
   "cell_type": "markdown",
   "id": "da6f77e1-2132-4220-9618-554e4e24724a",
   "metadata": {},
   "source": [
    "Danach wird das Modul *QuantumCirquit* von Qiskit eingebunden, der Schaltkreis bestehend aus zwei Qubits (im Zustand 00) und zwei klassischen Bits definiert und schliesslich auf beide Qubits die Hadamard-Transformation angewendet:"
   ]
  },
  {
   "cell_type": "code",
   "execution_count": 2,
   "id": "bd892983-df29-4ec4-a0b6-8d25b085e969",
   "metadata": {
    "tags": []
   },
   "outputs": [
    {
     "data": {
      "image/png": "[encoded data removed]",
      "text/plain": [
       "<Figure size 454.517x284.278 with 1 Axes>"
      ]
     },
     "execution_count": 2,
     "metadata": {},
     "output_type": "execute_result"
    }
   ],
   "source": [
    "from qiskit import QuantumCircuit\n",
    "\n",
    "qc = QuantumCircuit(2, 2)\n",
    "qc.h(0)\n",
    "qc.h(1)\n",
    "qc.barrier()\n",
    "qc.measure([0, 1], [0, 1])\n",
    "qc.draw('mpl') # Schaltkreis mit MathPlotLib zeichnen"
   ]
  },
  {
   "cell_type": "markdown",
   "id": "d88db136-b5e0-4489-9774-0f302e515aa5",
   "metadata": {
    "tags": []
   },
   "source": [
    "Präparation und Messung sind wieder durch eine Barriere optisch getrennt. Die Anweisung *qc.measure([0, 1], [0, 1])* besagt, dass beide Qubits [0, 1] gemessen werden sollen und das Ergebnis anschliessend in den beiden klassischen Bits [0, 1] abgelegt wird.\n",
    "\n",
    "Damit der Schaltkreis ausgeführt werden kann, wird wieder die Funktion *execute* eingebunden und anschliessend ausgeführt:\n"
   ]
  },
  {
   "cell_type": "code",
   "execution_count": 3,
   "id": "9006f8ef-e9d2-4e96-8f79-a7d089028528",
   "metadata": {
    "tags": []
   },
   "outputs": [],
   "source": [
    "from qiskit.execute_function import execute\n",
    "\n",
    "job = execute(qc, backend)"
   ]
  },
  {
   "cell_type": "markdown",
   "id": "41f5b3e1-e4a3-41bd-a659-0ea244f38ca3",
   "metadata": {},
   "source": [
    "Wenn Sie wissen wollen, was in der String-Variablen *job* gespeichert ist, können Sie sie wieder mit *print(job)* ausdrucken. Das gewünschte Messergebnis muss nun mit der Methode .result() extrahiert werden, Dieses wird anschliessend in der Variablen *result* abgespeichert. Wieder können Sie mit *print (result)* ihren Inhalt erkunden."
   ]
  },
  {
   "cell_type": "code",
   "execution_count": 4,
   "id": "99cbac1a-d45b-410a-a8be-76a20791f544",
   "metadata": {
    "tags": []
   },
   "outputs": [],
   "source": [
    "result = job.result()"
   ]
  },
  {
   "cell_type": "markdown",
   "id": "dc198f37-c33b-4d53-a0a3-752a727cf86c",
   "metadata": {},
   "source": [
    "Aus der Stringvariablen *result* extrahieren wir nun mit der Methode .get_counts() das Messergebnis:"
   ]
  },
  {
   "cell_type": "code",
   "execution_count": 5,
   "id": "ae3160fe-6069-456d-9869-63db6e47e438",
   "metadata": {
    "tags": []
   },
   "outputs": [
    {
     "name": "stdout",
     "output_type": "stream",
     "text": [
      "{'10': 262, '00': 247, '01': 261, '11': 254}\n"
     ]
    }
   ],
   "source": [
    "counts = result.get_counts()\n",
    "print(counts)"
   ]
  },
  {
   "cell_type": "markdown",
   "id": "8dc8f7af-70bf-46bc-aca0-7b951d4a6f6c",
   "metadata": {
    "tags": []
   },
   "source": [
    "Würde der Schaltkreis nur einmal durchlaufen, hätten wir eines der vier möglichen Ergebnisse. 00, 01, 10 oder 11. Dieses Ergebnis ist rein zufällig und kann nicht vorausgesagt werden. Eine Messung gibt uns somit keine Auskunft über den Zustand des Registers nach Anwendung der beiden Hadamard-Transformationen. Damit wir Informationen über den Registerzustand erhalten, müssen wir entweder eine grosse anzahl von Zei-Qubitregistern exakt gleich präparieren und anschliessend Messen. Hier wird der Schaltkreis viele Male durchlaufen und die Messergebnisse nach Häufigkeit geordnet.\n",
    "Genau das zeigt die Variable *counts*. Sie ordnet jedem möglichen Messergebnis (z. B. '00') nach dem Doppelpunkt die Häufigkeit dieses Messwerts zu (hier 252). Summieren Sie alle Häufigkeiten auf, erhalten Sie: $252+256+264+252=1024$. Das heisst, der Schaltkreis wurde 1024mal durchlaufen und somit liegen 1024 Messergebnisse vor. Die Anzahl Durchläufe (shots) kann auch selbst gewählt werden. Dazu schreiben Sie oben in der Execute-Funktion: *job = execute(qc, backend, shots = 512)* falls Sie nur 512 Durchläufe wollen.*"
   ]
  },
  {
   "cell_type": "markdown",
   "id": "103b2418-1045-498e-a80c-2b2a9cb40108",
   "metadata": {},
   "source": [
    "Das Ergebnis hann auch in einem Histogramm dargestellt werden:"
   ]
  },
  {
   "cell_type": "code",
   "execution_count": 6,
   "id": "e74acdad-659e-406d-892b-70b72a49c680",
   "metadata": {
    "tags": []
   },
   "outputs": [
    {
     "data": {
      "image/png": "[encoded data removed]",
      "text/plain": [
       "<Figure size 700x500 with 1 Axes>"
      ]
     },
     "execution_count": 6,
     "metadata": {},
     "output_type": "execute_result"
    }
   ],
   "source": [
    "from qiskit.visualization import plot_histogram\n",
    "plot_histogram(counts)"
   ]
  },
  {
   "cell_type": "markdown",
   "id": "ea420bc4-2745-402b-9506-8709bb1df5fd",
   "metadata": {},
   "source": [
    "Die Histogramm-Funktion wird im nächsten Notebook Nr. 5 näher erklärt. \n",
    "\n",
    "Wenn Sie dieses Notebook hier mehrmals durchlaufen, sehen Sie übrigens, dass sich die Verteilung der Messwerte jedesmal leicht verändert. Bei wenigen Shots erhält man eine grosse Streuung und bei vielen Shots gleichen nähern sich die Werte einer Gleichberteilung. Probieren Sie es selbst aus!"
   ]
  },
  {
   "cell_type": "markdown",
   "id": "a9de4690-92a3-48c9-b4d6-dea814e75157",
   "metadata": {},
   "source": [
    "* Das *Shot*-Argument in  *execute* wird in neueren Qiskit-Versionen nicht mehr unterstützt. Siehe dazu die folgende [Referenz](https://github.com/Qiskit/qiskit/issues/6741)."
   ]
  },
  {
   "cell_type": "code",
   "execution_count": null,
   "id": "e609f7b0-d9ec-4605-a3af-4af3ade386b6",
   "metadata": {},
   "outputs": [],
   "source": []
  }
 ],
 "metadata": {
  "kernelspec": {
   "display_name": "Python 3 (ipykernel)",
   "language": "python",
   "name": "python3"
  },
  "language_info": {
   "codemirror_mode": {
    "name": "ipython",
    "version": 3
   },
   "file_extension": ".py",
   "mimetype": "text/x-python",
   "name": "python",
   "nbconvert_exporter": "python",
   "pygments_lexer": "ipython3",
   "version": "3.11.11"
  },
  "widgets": {
   "application/vnd.jupyter.widget-state+json": {
    "state": {},
    "version_major": 2,
    "version_minor": 0
   }
  }
 },
 "nbformat": 4,
 "nbformat_minor": 5
}
