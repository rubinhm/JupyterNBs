{
 "cells": [
  {
   "cell_type": "markdown",
   "id": "cf81d15a-74e1-4d48-bee0-7f932caf6cb4",
   "metadata": {},
   "source": [
    "# 12. Der Deutsch-Alorithmus\n",
    "\n",
    "Im Buch das Problem von Deutsch genannt. **David Deutsch** ist ein israelisch-britischer Physiker auf dem Gebiet der Quanteninformationstheorie.\n",
    "\n",
    "Wenn Sie die Echtheit einer Münze prüfen wollen, müssen Sie beide Seiten der Münze genau unter die Lupe nehmen. Quantenmechanisch lässt sich eine *Münze* so präparieren, dass beide Seiten mit einem *Shot* (also ohne die Münze zu drehen) geprüft werden kann.\n",
    "\n",
    "Dazu werden zwei Qubits benötigt, $q_0$ im Zustand $|0\\rangle$ (Kopf) und $q_1$ im Zustand $|1\\rangle$ (Zahl) sowie ein klassisches Register $c$ mit einem Bit."
   ]
  },
  {
   "cell_type": "markdown",
   "id": "5075f449-ba82-4498-bf7d-57ea70390881",
   "metadata": {},
   "source": [
    "### Definition des Schaltkreises\n"
   ]
  },
  {
   "cell_type": "code",
   "execution_count": 1,
   "id": "f2fa0c0f",
   "metadata": {
    "tags": []
   },
   "outputs": [
    {
     "name": "stdout",
     "output_type": "stream",
     "text": [
      "Der Ausgangszustand ist: \n",
      "[0.+0.j 1.+0.j 0.+0.j 0.+0.j]\n"
     ]
    }
   ],
   "source": [
    "from qiskit import QuantumRegister, ClassicalRegister, QuantumCircuit, execute, BasicAer\n",
    "backend = BasicAer.get_backend('statevector_simulator')\n",
    "#from qiskit.providers.aer import QasmSimulator\n",
    "#from numpy import pi\n",
    "\n",
    "qreg_q = QuantumRegister(2, 'q')\n",
    "creg_c = ClassicalRegister(1, 'c')\n",
    "circuit = QuantumCircuit(qreg_q, creg_c)\n",
    "circuit.x(qreg_q[0])  #Setzt den Zustand von q_0 auf |1> (von Kopf auf Zahl)\n",
    "# circuit.x(qreg_q[1])  #Setzt den Zustand von q_1 auf |1> (von Kopf auf Zahl)\n",
    "circuit.barrier()\n",
    "#Zur Kontrolle wird der State-Vector des Ausgangszustands berechnet:\n",
    "state_vector = execute(circuit, backend).result().get_statevector() #Extraktion des Zustandsvektors\n",
    "print('Der Ausgangszustand ist: ')\n",
    "print(state_vector) # Ausgabe des Zustandsvektors als Zeilenvektor mit vier (komplexen) Komponenten"
   ]
  },
  {
   "cell_type": "markdown",
   "id": "949757ae-24fd-4dc2-91dd-bda2e26adfe8",
   "metadata": {},
   "source": [
    "### Präparation\n",
    "Nach der ersten Barriere erfolgt die Präparation der *Münze*:"
   ]
  },
  {
   "cell_type": "code",
   "execution_count": 2,
   "id": "7f9204bd-79cc-4680-bb30-768f551cf7f6",
   "metadata": {},
   "outputs": [
    {
     "name": "stdout",
     "output_type": "stream",
     "text": [
      "Der Endzustand ist: \n",
      "[0.        +0.00000000e+00j 0.70710678-1.29893408e-16j\n",
      " 0.        +0.00000000e+00j 0.70710678-1.29893408e-16j]\n"
     ]
    }
   ],
   "source": [
    "circuit.h(qreg_q[0])\n",
    "circuit.h(qreg_q[1])\n",
    "circuit.cx(qreg_q[0], qreg_q[1])\n",
    "circuit.h(qreg_q[0])\n",
    "circuit.barrier()\n",
    "#Zur Kontrolle wird der State-Vector vor der Messung berechnet:\n",
    "state_vector = execute(circuit, backend).result().get_statevector() #Extraktion des Zustandsvektors\n",
    "print('Der Endzustand ist: ')\n",
    "print(state_vector) # Ausgabe des Zustandsvektors als Zeilenvektor mit vier (komplexen) Komponenten"
   ]
  },
  {
   "cell_type": "markdown",
   "id": "372e8249-d842-40c5-b313-c59d9b0efe4a",
   "metadata": {},
   "source": [
    "### Auswertung"
   ]
  },
  {
   "cell_type": "markdown",
   "id": "017b4b31-2506-4f7d-97c5-5653ae6302e5",
   "metadata": {},
   "source": [
    "Mit der abschliessenden Messung wird die *Münze* auf ihre Echtheit geprüft und der ganze Schaltkreis gezeichnet:"
   ]
  },
  {
   "cell_type": "code",
   "execution_count": 3,
   "id": "e55c6511-d2ff-4265-8a15-c7cd8d0c1ced",
   "metadata": {},
   "outputs": [
    {
     "data": {
      "image/png": "[encoded data removed]",
      "text/plain": [
       "<Figure size 705.35x284.278 with 1 Axes>"
      ]
     },
     "execution_count": 3,
     "metadata": {},
     "output_type": "execute_result"
    }
   ],
   "source": [
    "circuit.measure(qreg_q[0], creg_c[0])\n",
    "circuit.draw('mpl')"
   ]
  },
  {
   "cell_type": "markdown",
   "id": "4c2bd1a4-d666-4c5f-924c-ef30c7cdcb75",
   "metadata": {},
   "source": [
    "Die Messung simulieren wir mit dem Qasm-Simulator:"
   ]
  },
  {
   "cell_type": "code",
   "execution_count": 4,
   "id": "94ca387d",
   "metadata": {
    "tags": []
   },
   "outputs": [
    {
     "name": "stdout",
     "output_type": "stream",
     "text": [
      "{'1': 1024}\n"
     ]
    }
   ],
   "source": [
    "backend = BasicAer.get_backend('qasm_simulator')\n",
    "result = execute(circuit, backend).result().get_counts()\n",
    "print(result)"
   ]
  },
  {
   "cell_type": "markdown",
   "id": "830b1329-8554-4549-9b2b-9b0eab3da8b0",
   "metadata": {},
   "source": [
    "Das Ergebnis ist eindeutig. Das Experiment wurde 1024mal wiederholt und jedesmal ist das Ergebnis `'1'` herausgekommen. Ohne die `shots`-Angabe läuft `execute` jeweils 1024mal durch. Sie können aber auch nur einen Durchlauf wählen: `shots=1`."
   ]
  },
  {
   "cell_type": "markdown",
   "id": "83145a9c-3ab0-436a-9abe-d2a736c4d238",
   "metadata": {},
   "source": [
    "**Experiment** Vergewissern Sie sich davon, dass das Resultat immer `1` ist, wenn $q_0$ und $q_1$ im selben Zustand sind (der Registerzustand also entweder $|00\\rangle$ oder $|11\\rangle$ ist). Sind die Qubitzustände hingegen gleich, ist das Ergebnis immer `0` (der Registerzustand also entweder $|01\\rangle$ oder $|10\\rangle$ ist). Die *Münze* wird somit als *echt* eingeschätzt, falls die Beiden *Seiten* verschieden sind und als *gefälscht*, falls die beiden *Seiten* gleich sind."
   ]
  },
  {
   "cell_type": "markdown",
   "id": "ae173454-e4fd-4116-8d71-18df839e31ab",
   "metadata": {},
   "source": [
    "### Analyse\n",
    "\n"
   ]
  },
  {
   "cell_type": "markdown",
   "id": "8b9f712f-0e31-4f69-90a9-9dcf276d2061",
   "metadata": {},
   "source": [
    "Was geschieht nun genau in diesem Schaltkreis? Die Details sind im Buch in Kap. 20.4 auf S. 254 erklärt. Hier nur die Zusammenfassung:\n",
    "\n",
    "- ist der Registerzustand zu Beginn z. B. $|01\\rangle$ (die *Münze* also echt) wird er durch die Operationen in den Zustand:\n",
    "\n",
    "  $$\\frac{1}{\\sqrt{2}}\\left(\\left|01\\right\\rangle+\\left|11\\right\\rangle\\right)=\\frac{1}{\\sqrt{2}}\\left(\\left|0\\right\\rangle+\\left|1\\right\\rangle\\right)\\left|1\\right\\rangle$$\n",
    "  \n",
    "- ist der Registerzustand zu Beginn z. B. $|00\\rangle$ (die *Münze* also echt) wird er durch die Operationen in den Zustand:\n",
    "\n",
    "  $$\\frac{1}{\\sqrt{2}}\\left(\\left|00\\right\\rangle+\\left|10\\right\\rangle\\right)=\\frac{1}{\\sqrt{2}}\\left(\\left|0\\right\\rangle+\\left|1\\right\\rangle\\right)\\left|0\\right\\rangle$$\n"
   ]
  },
  {
   "cell_type": "markdown",
   "id": "350ee683-f4ef-4aee-b453-2dceb8600a4b",
   "metadata": {},
   "source": [
    "**Aufgabe:** Rechnen Sie das selbst nach und berechnen Sie auch die Registerzustände für die Ausgangszustände $|10\\rangle$ und $|11\\rangle$. Beachten Sie bei der Rechnung die in Qiskit verwendete Qubit-Reihenfolge. Vergleichen Sie mit der Rechnung im Buch in Kap. 20.4 auf S. 254. Kontrollieren Sie Ihr Ergebnis mit dem oben berechneten State-Vector!"
   ]
  },
  {
   "cell_type": "markdown",
   "id": "a4ce31d1-ec15-4999-b1b1-96887425148b",
   "metadata": {},
   "source": [
    "Wie Sie sehen, wird durch den Algorithmus von Deutsch das Register jeweils in einen Zustand versetzt, bei dem der Zustand von $q_0$ die Information über *echt* oder *gefältscht* enthält. Deshalb kann mit einer Messung, d. h. mit einem *Blick* die *Münze* auf ihre Echtheit geprüft werden.\n",
    "\n",
    "Für diese Vereinfachung muss allerdings eine  gewisse Vorarbeit geleistet werden und es stellt sich die Frage, welchen Vorteil dieses Verfahren bringt. Nun bei zwei Qubits kann man nicht von einem wirklichen Vorteil sprechen. Wie bei vielen Quantenalgorithmen wird ein Vorteil erst bei sehr grossen Datenmengen erkennbar. So lässt sich auch der Deutsch-Algorithmus auf mehrere Qubits erweitern. Wozu das nützlich ist, zeigt das nächste Notebook zum **Bernstein-Vazirani**-Algorithmus, der eine Verallgemeinerung des hier vorgestellten Algorithmus von Deutsch darstellt.\n",
    "\n"
   ]
  },
  {
   "cell_type": "code",
   "execution_count": null,
   "id": "97a0c583-fffc-4afa-9d81-eea049124a01",
   "metadata": {},
   "outputs": [],
   "source": []
  }
 ],
 "metadata": {
  "kernelspec": {
   "display_name": "Python 3 (ipykernel)",
   "language": "python",
   "name": "python3"
  },
  "language_info": {
   "codemirror_mode": {
    "name": "ipython",
    "version": 3
   },
   "file_extension": ".py",
   "mimetype": "text/x-python",
   "name": "python",
   "nbconvert_exporter": "python",
   "pygments_lexer": "ipython3",
   "version": "3.11.11"
  },
  "widgets": {
   "application/vnd.jupyter.widget-state+json": {
    "state": {},
    "version_major": 2,
    "version_minor": 0
   }
  }
 },
 "nbformat": 4,
 "nbformat_minor": 5
}
