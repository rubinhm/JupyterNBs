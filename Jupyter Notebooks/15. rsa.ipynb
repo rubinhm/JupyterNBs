{
 "cells": [
  {
   "cell_type": "markdown",
   "id": "0bacee9d-f51a-4575-88d7-5442c08086ba",
   "metadata": {},
   "source": [
    "# 15. Die RSA-Verschlüsselung\n",
    "\n",
    "### Inhalt:\n",
    "\n",
    "1. [Prinzip](#prinzip)\n",
    "2. [Berechnung der Schlüssel](#schluessel)\n",
    "3. [Verschlüsseln einer Nachricht](#verschl)\n",
    "4. [Entschlüsseln einer Nachricht](#entschl)\n",
    "5. [Programm mit variabler Eingabe](#vareing)\n",
    "6. [Verschlüsselung Knacken](#knacken)\n",
    "7. [Die  $168$ Primzahlen von $2$ bis $1000$](#primzahlen)\n",
    "8. [Eigene Experimente](#experimente)\n",
    "\n",
    "\n",
    "Benannt nach Ronald **R**ivest, Adi **S**hamir und Leonard **A**dleman, geört diese Verschlüsselungstechnik zu den *Public-Key*-Verfahren,  mit einem öffentlichen und einem Privaten Schlüssel. Mit dem öffentlichen Schlüssel werden die Daten verschlüsselt und mit dem privaten Schlüssel werden sie wieder entschlüsselt. Das Verfahren basiert auf der Produktbildung von grossen Primzahlen.\n",
    "\n",
    "Alle Nutzer können ihre Daten mit demselben Schlüssel verschlüsseln aber nicht entschlüsseln. Entschlüsseln lassen sich die Daten nur mit dem privaten Schlüssel, z. B. auf dem Server. Man spricht deshalb auch von asymmetrischer Verschlüsselung.\n",
    "\n",
    "Das Beispiel hier ist im Buch in Kap. 20.7 genau erläutert.  Es stammt aus der ürsprünglichen Arbeit von Rivest, Shamir und Adleman, [*], Wir geben hier lediglich den Programmcode, damit Sie selbst weiterexperimentieren können. Ein anderes Beispiel finden Sie auf dieser [Webseite](https://www.cryptool.org/de/cto/rsa-step-by-step/).\n",
    "\n",
    "<a name=\"prinzip\"></a>\n",
    "### 1. Prinzip\n",
    "\n",
    "Man arbeitet mit einem öffentlichen Schlüssel $(e,n)$ und einem privaten Schlüssel $(d,n)$ der öffentliche Schlüssel wird zum verschlüsseln benutzt. Eine Nachricht in Zahlenform $m$ (message) wird damit folgendermassen verschlüsselt:\n",
    "$$ x=m^e\\ mod\\ n$$\n",
    "Der Kryptotext $x$ wird übermittelt und beim Empfänger mit dem privaten Schlüssel entschlüsselt, gemäss:\n",
    "$$mr=x^d\\ mod\\ n$$\n",
    "Dabei ist $mr$ die rekonstruierte Nachricht (Zahl). Wenn alles funktioniert hat, ist $mr=m$.\n",
    "\n",
    "Die Zahl $n$ wird aus zwei möglichst grossen Primzahlen $p$ und $q$ als Produkt dieser Primzahlen  gebildet $n=p*q$. Nach welchem Verfahren die beiden Zahlen $e$ und $d$ gebildet werden, wird weiter unten erklärt.\n",
    "\n",
    "Da $n$ auch im öffentlichen Schlüssel enthalten ist müsste man nur noch die Zahl $d$ kennen um auch den privaten Schlüssel zu haben. Die Zahl $d$ kann aus den Primfaktoren $p$ und $q$ von $n$ bestimmt werden. Wenn also die Primfaktorzerlegung von $n$ gelingt, kann der private Schlüssel bestimmt werden. Deshalb ist es von grosser Wichtigkeit, die beiden Primzahlen $p$ und $q$ so gross zu wählen, dass eine Primfaktorzerlegung von $n$ nicht in nützlicher Zeit erfolgen kann.\n",
    "\n",
    "\n",
    "\n",
    "\n",
    "\n",
    "\n",
    "[*] Rivest, Shamir, and Adleman. A method for obtaining digital signatures and public-key cryptosystems. Communications of the ACM, 21:120–126, 1978.\n"
   ]
  },
  {
   "cell_type": "markdown",
   "id": "23f5c0f6-fc64-43d2-b6f7-1993dfb98454",
   "metadata": {},
   "source": [
    "<a name=\"schluessel\"></a>\n",
    "### 2. Berechnung der Schlüssel\n",
    "\n",
    "Das Vorgehen wird im Folgenden Schritt für Schritt erklärt. Wir wählen dazu zunächst die beiden Primzahlen, z. B. $p=47$ und $q=59$ und bilden daraus das Produkt $n=p*q$. "
   ]
  },
  {
   "cell_type": "code",
   "execution_count": 1,
   "id": "a87b39db-0b12-4b43-ae7e-38baaa23adc6",
   "metadata": {
    "tags": []
   },
   "outputs": [
    {
     "name": "stdout",
     "output_type": "stream",
     "text": [
      "Das Produkt lautet n = 2773\n"
     ]
    }
   ],
   "source": [
    "p=47\n",
    "q=59\n",
    "n=p*q\n",
    "print('Das Produkt lautet n =', n)"
   ]
  },
  {
   "cell_type": "markdown",
   "id": "90fb605a-cc59-45fe-b0fd-64c45e7fbd66",
   "metadata": {},
   "source": [
    "Nun berechnen wir die Euler'sch $\\phi$-Funktion: $\\phi=(p-1)(q-1)$ Näheres dazu finden Sie in diesem [Wikipedia Artikel](https://de.wikipedia.org/wiki/Eulersche_Phi-Funktion)."
   ]
  },
  {
   "cell_type": "code",
   "execution_count": 2,
   "id": "92b6cf62-1568-40aa-8af3-0723aa6b2b19",
   "metadata": {
    "tags": []
   },
   "outputs": [
    {
     "name": "stdout",
     "output_type": "stream",
     "text": [
      "Der Eulersche Phi-Funktionswert lautet phi =  2668\n"
     ]
    }
   ],
   "source": [
    "phi=(p-1)*(q-1)\n",
    "print('Der Eulersche Phi-Funktionswert lautet phi = ', phi)"
   ]
  },
  {
   "cell_type": "markdown",
   "id": "bbf58d28-8a26-4a9e-9f96-39321186ad1b",
   "metadata": {},
   "source": [
    "Dann wählen wir eine Zahl $e$ (z. B. eine Primzahl), die in jedem Fall teilerfremd zu $\\phi(n)$ sein muss, also weder ein Teiler von $46$ noch von $58$ ist. Wir wählen $e=17$.\n",
    "\n",
    "Dann gilt für den **g**rössten **g**emeinsamen **T**eiler mit Sicherheit: $ggT(\\phi, e)=ggT(2668, 17)=1$\n",
    "\n",
    "Damit lösen wir die Gleichung:\n",
    "\n",
    "$$d\\cdot e\\ mod\\ \\phi = 1 \\Rightarrow d\\cdot e\\ mod\\ (p-1)(q-1) = d\\cdot e\\ mod\\ 2668 = 1$$\n",
    "\n",
    "Mit der Definition \n",
    "\n",
    "$$a\\ mod\\ b=a - \\left\\lfloor \\frac{a}{b}\\right\\rfloor\\cdot b$$\n",
    "\n",
    "Dabei bedeutet $\\lfloor \\cdot \\rfloor$ die **Gaussklammer**. Nach unten geschlossen, ordnet sie einer Zahl ihre nächstliegende, nicht grössere ganze Zahl zu, das heisst, dass auf die vorherige ganze Zahl abgerundet wird. Siehe dazu auch diesen [Artikel im Web](https://www.mathespass.at/klasse5/gaussklammer.php). \n",
    "\n",
    "In diesem Fall wird auf $1$ abgerundet. Deshalb ist die obige Bedingung gleichbedeutend mit\n",
    "\n",
    "$$d\\cdot e\\ mod\\ \\phi = d\\cdot e\\ mod\\ (p-1)(q-1) = d\\cdot e - (p-1)(q-1)= 1$$\n",
    "\n",
    "Was wir nach der gesuchten Zahl $d$ auflösen können:\n",
    "\n",
    "$$d=\\frac{1+(q-1)\\cdot (p-1)}{e}=\\frac{1+2668}{17}=157$$\n",
    "\n",
    "Das lassen wir uns auch noch vom Computer ausrechnen:\n",
    "\n"
   ]
  },
  {
   "cell_type": "code",
   "execution_count": 3,
   "id": "0ced04b7-2d22-4bc7-949d-b19bcde8eea3",
   "metadata": {
    "tags": []
   },
   "outputs": [
    {
     "name": "stdout",
     "output_type": "stream",
     "text": [
      "Die Lösung von d*e mod phi = 1 ist: d=  157\n"
     ]
    }
   ],
   "source": [
    "e=17 # scheint nur mit 17 zu funktionieren!?\n",
    "d=(1+(q-1)*(p-1))/e\n",
    "d=int(d) # Umwandlung in Integer notwendig, sonst gibt es Rundungsfehler\n",
    "print('Die Lösung von d*e mod phi = 1 ist: d= ', d)"
   ]
  },
  {
   "cell_type": "markdown",
   "id": "99fb9b85-b918-4fea-9eac-5ad0b49e3593",
   "metadata": {},
   "source": [
    "Damit haben wir einen öffentlichen Schlüssel $(e, n)=(17, 2773)$ und einen privaten Schlüssel $(d, n)=(157, 2773)$ erzeugt."
   ]
  },
  {
   "cell_type": "markdown",
   "id": "54fbdc7a-344c-4d58-9a55-29a183ed2e16",
   "metadata": {},
   "source": [
    "<a name=\"verschl\"></a>\n",
    "### 3. Verschlüsseln einer Nachricht\n",
    "\n",
    "Nun verschlüsseln wir mit dem privaten Schlüssel eine Botschaft (Message) $m$, z. B. für $m=1220$.\n",
    "\n",
    "Dazu berechnen wir:\n",
    "\n",
    "$$ x=m^e\\ mod\\ n$$"
   ]
  },
  {
   "cell_type": "code",
   "execution_count": 4,
   "id": "942c5037-1eca-4479-85af-2888d783e3a1",
   "metadata": {
    "tags": []
   },
   "outputs": [
    {
     "name": "stdout",
     "output_type": "stream",
     "text": [
      "Die verschlüsselte Zahl ist x =  1750\n"
     ]
    }
   ],
   "source": [
    "m=1220\n",
    "x=m**e%n\n",
    "print('Die verschlüsselte Zahl ist x = ', x)"
   ]
  },
  {
   "attachments": {},
   "cell_type": "markdown",
   "id": "ce76f297-cc68-4d22-a652-f49edd84144d",
   "metadata": {},
   "source": [
    "<a name=\"entschl\"></a>\n",
    "### 4. Entschlüsseln der Nachricht\n",
    "\n",
    "Mit dem privaten (geheimen) Schlüssel $(d, n)=(157, 2773)$ rekonstruieren wir die Nachricht aus der verschlüsselten Zahl $x$:\n",
    "\n",
    "$$mr=x^d\\ mod\\ n$$\n"
   ]
  },
  {
   "cell_type": "code",
   "execution_count": 5,
   "id": "53a58f15-42df-4947-b41a-3699bb709eaf",
   "metadata": {},
   "outputs": [
    {
     "name": "stdout",
     "output_type": "stream",
     "text": [
      "Die rekonstruierte Zahl ist: mr =  1220\n"
     ]
    }
   ],
   "source": [
    "mr=x**d%n\n",
    "print('Die rekonstruierte Zahl ist: mr = ', mr)"
   ]
  },
  {
   "cell_type": "markdown",
   "id": "47ce8468-fbc0-4b3e-81b2-6747a3c3f3d7",
   "metadata": {},
   "source": [
    "Zusammenfassend stellen wir noch einmal die wichtigsten Prameter zusammen:"
   ]
  },
  {
   "cell_type": "code",
   "execution_count": 6,
   "id": "d840de00-8c96-4b9c-ab2b-02ddf2cf4b8f",
   "metadata": {},
   "outputs": [
    {
     "name": "stdout",
     "output_type": "stream",
     "text": [
      "e = 17    d = 157    n = 2773\n"
     ]
    }
   ],
   "source": [
    "print('e =', e, '   d =', d, '   n =', n)"
   ]
  },
  {
   "cell_type": "markdown",
   "id": "dd2f9770-e888-4852-8e15-2b8d6047afde",
   "metadata": {},
   "source": [
    "#### Wichtig\n",
    "\n",
    "Die Ver- und Entschlüsselung funktioniert nur bis $m<n$. In diesem Beispiel muss also $m<2773$ sein. Versuchen Sie es mit einer Zahl $m>2772$,  stimmt die rekonstruierte Zahl nicht mehr mit der eingegebenen Zahl überein. Probieren Sie es aus!"
   ]
  },
  {
   "cell_type": "markdown",
   "id": "14b1ace6-c73e-412d-8a42-9a882ca60a2d",
   "metadata": {},
   "source": [
    "<a name=\"vareing\"></a>\n",
    "### 5. Programm mit variabler Eingabe\n",
    "\n",
    "Wir wollen das Programm jetzt so gestalten, sodass wir zwei beliebige Primzahlen eingeben können und dass die Parameter $e$ und $d$ automatisch bestimmt werden.\n",
    "\n",
    "Dazu definieren wir zuerst eine Python-Funktion, die mithilfe des **Euklid-Algorithmus** ([siehe hier](https://de.wikipedia.org/wiki/Euklidischer_Algorithmus)) den grössten gemeinsamen Teiler (**ggT**) zweier Zahlen berechnet:\n"
   ]
  },
  {
   "cell_type": "code",
   "execution_count": 4,
   "id": "a4c1b74a-f598-412c-8b39-9830de53f604",
   "metadata": {},
   "outputs": [],
   "source": [
    "# Funktion zur Bestimmung des ggT\n",
    "def ggt(a, b):\n",
    "    r=a%b\n",
    "    while r:\n",
    "        a=b\n",
    "        b=r\n",
    "        r=a%b\n",
    "    return (b)"
   ]
  },
  {
   "cell_type": "markdown",
   "id": "1648064e-5bd7-4903-8350-74e94111d76f",
   "metadata": {},
   "source": [
    "Nun folgt der Programmteil zur **Eingabe** der beiden Primzahlen:"
   ]
  },
  {
   "cell_type": "code",
   "execution_count": 5,
   "id": "61c1e1fa-5cfc-4997-8072-116784661e27",
   "metadata": {},
   "outputs": [
    {
     "name": "stdin",
     "output_type": "stream",
     "text": [
      "Geben Sie zwei Primzahlen ein (durch Komma getrennt):  67, 193\n"
     ]
    }
   ],
   "source": [
    "# Hier erfolgt die Eingabe der beiden Primzahlen und die Berechnung von Phi\n",
    "eingabe = input(\"Geben Sie zwei Primzahlen ein (durch Komma getrennt): \")\n",
    "eingabe_string = eingabe.split(',')\n",
    "p = int(eingabe_string[0])\n",
    "q = int(eingabe_string[1])\n",
    "n=p*q\n",
    "phi=(p-1)*(q-1)"
   ]
  },
  {
   "cell_type": "markdown",
   "id": "8f6a8a7b-2875-4b0e-aba5-31595cd3b85c",
   "metadata": {},
   "source": [
    "Im folgenden Programmteil werden die beiden Zahlen $e$ und $d$ berechnet. Dies geschieht rekursiv: Wir probieren einfach alle Zahlen (bis zum Maximum von $p-1$ und $q-1$) durch. Dabei stellen wir fest, dass es **viele Lösungen** gibt, die wir alle auflisten:"
   ]
  },
  {
   "cell_type": "code",
   "execution_count": 6,
   "id": "d71cc588-fd13-43b9-8748-9775e2c182cc",
   "metadata": {},
   "outputs": [
    {
     "name": "stdout",
     "output_type": "stream",
     "text": [
      "192\n",
      "e =  1     d =  1\n",
      "e =  5     d =  5069\n",
      "e =  7     d =  5431\n",
      "e =  13     d =  8773\n",
      "e =  17     d =  8945\n",
      "e =  19     d =  667\n",
      "e =  23     d =  551\n",
      "e =  25     d =  8617\n",
      "e =  29     d =  437\n",
      "e =  31     d =  3679\n",
      "e =  35     d =  6155\n",
      "e =  37     d =  685\n",
      "e =  41     d =  8345\n",
      "e =  43     d =  2947\n",
      "e =  47     d =  9167\n",
      "e =  49     d =  8017\n",
      "e =  53     d =  5021\n",
      "e =  59     d =  10739\n",
      "e =  61     d =  8725\n",
      "e =  65     d =  4289\n",
      "e =  67     d =  9835\n",
      "e =  71     d =  8567\n",
      "e =  73     d =  9721\n",
      "e =  79     d =  5935\n",
      "e =  83     d =  6107\n",
      "e =  85     d =  1789\n",
      "e =  89     d =  4841\n",
      "e =  91     d =  12115\n",
      "e =  95     d =  10271\n",
      "e =  97     d =  7969\n",
      "e =  101     d =  7277\n",
      "e =  103     d =  4183\n",
      "e =  107     d =  11843\n",
      "e =  109     d =  4069\n",
      "e =  113     d =  785\n",
      "e =  115     d =  5179\n",
      "e =  119     d =  8519\n",
      "e =  125     d =  11861\n",
      "e =  127     d =  5887\n",
      "e =  131     d =  1451\n",
      "e =  133     d =  10957\n",
      "e =  137     d =  185\n",
      "e =  139     d =  547\n",
      "e =  145     d =  10225\n",
      "e =  149     d =  7229\n",
      "e =  151     d =  5287\n",
      "e =  155     d =  8339\n",
      "e =  157     d =  565\n",
      "e =  161     d =  1889\n",
      "e =  163     d =  5131\n",
      "e =  167     d =  10775\n",
      "e =  169     d =  8473\n",
      "e =  173     d =  293\n",
      "e =  175     d =  1231\n",
      "e =  179     d =  10619\n",
      "e =  181     d =  6301\n",
      "e =  185     d =  137\n",
      "e =  191     d =  9023\n"
     ]
    }
   ],
   "source": [
    "# Nun müssen Zahlen e gefunden werden, die teilerfremd zu p-1 und q-1 sind sowie die dazugehörigen d-Werte\n",
    "bis=max([p-1, q-1])\n",
    "print (bis)\n",
    "for x in range (1, bis):\n",
    "    if (ggt(p-1, x)==1) and (ggt(q-1, x)==1):\n",
    "        e=x\n",
    "        for d in range (1, (p-1)*(q-1)):\n",
    "            if ((d*e)%((p-1)*(q-1))==1):\n",
    "                print ('e = ', e, '    d = ', d)  "
   ]
  },
  {
   "cell_type": "markdown",
   "id": "aaf89eae-e2fb-4116-b33b-1eb66fa187d8",
   "metadata": {},
   "source": [
    "#### Verschlüsselung\n",
    "Da es eine Vielzahl von Möglichkeiten gibt, müssen Sie zwei zusammengehörige Werte von $e$ und $d$ aus der Liste oben auswählen und in den Programmcode unten eintragen. Ebenso müssen Sie die zu verschlüsselnde Zahl $m$ im Listing unten eingeben. Dabei muss $m<n$ sein, sonst funktioniert der Algorithmus nicht."
   ]
  },
  {
   "cell_type": "code",
   "execution_count": 7,
   "id": "aa22f584-7ac3-444a-9abc-d251634514ca",
   "metadata": {},
   "outputs": [
    {
     "name": "stdout",
     "output_type": "stream",
     "text": [
      "n =  12931\n",
      "Die verschlüsselte Zahl ist x =  12930\n"
     ]
    }
   ],
   "source": [
    "#Wir wählen zum Beispiel:\n",
    "e=137\n",
    "d=185\n",
    "print ('n = ', n)\n",
    "m=12930\n",
    "x=pow(m, e)%n\n",
    "print('Die verschlüsselte Zahl ist x = ', x)"
   ]
  },
  {
   "cell_type": "markdown",
   "id": "fb436599-d64f-4a41-bf19-3f9753208613",
   "metadata": {},
   "source": [
    "#### Entschlüsselung"
   ]
  },
  {
   "cell_type": "code",
   "execution_count": 8,
   "id": "378e8de4-1150-4b21-999e-a98a5d5f962d",
   "metadata": {},
   "outputs": [
    {
     "name": "stdout",
     "output_type": "stream",
     "text": [
      "Die rekonstruierte Zahl ist: mr =  12930\n"
     ]
    }
   ],
   "source": [
    "mr=pow(x, d)%n\n",
    "print('Die rekonstruierte Zahl ist: mr = ', mr)"
   ]
  },
  {
   "cell_type": "code",
   "execution_count": 9,
   "id": "e08114d6-9005-430c-9c92-da6161c419bc",
   "metadata": {},
   "outputs": [
    {
     "name": "stdout",
     "output_type": "stream",
     "text": [
      "Der hier benutzte öffentliche Schlüssel ist (e, n) = (  137 ,  12931 )\n",
      "\n",
      "Der hier benutzte private Schlüssel ist (d, n) = (  185 ,  12931 )\n"
     ]
    }
   ],
   "source": [
    "print('Der hier benutzte öffentliche Schlüssel ist (e, n) = ( ', e, ', ', n, ')')\n",
    "print()\n",
    "print('Der hier benutzte private Schlüssel ist (d, n) = ( ', d, ', ', n, ')')"
   ]
  },
  {
   "cell_type": "markdown",
   "id": "a4260727-c286-43ee-906c-8fc4d8313aea",
   "metadata": {},
   "source": [
    "<a name=\"knacken\"></a>\n",
    "### 6. Verschlüsselung knacken\n",
    "\n",
    "Wenn wir den den Parameter $d$ des privaten Schlüssels finden wollen, müssen wir $n$ in seine Primfaktoren zerlegen. Auch das machen wir hier rekursiv. Wir probieren einfach alle Zahlen durch. Falls $n\\ mod\\ x=0$, haben wir eine teilende Primzahl gefunden. Ist $n$ das produkt zweier Primzahlen, findet man diese schnell, sofern diese nicht sehr gross sind: \n"
   ]
  },
  {
   "cell_type": "code",
   "execution_count": 10,
   "id": "255e7914-3864-4254-80f1-6ae79cc6385e",
   "metadata": {},
   "outputs": [
    {
     "name": "stdout",
     "output_type": "stream",
     "text": [
      "12931\n",
      "67\n",
      "d =  185\n",
      "d =  12857\n",
      "193\n",
      "d =  185\n",
      "d =  12857\n"
     ]
    }
   ],
   "source": [
    "print(n)\n",
    "for x in range(2, n):\n",
    "    if n%x==0:\n",
    "        print(x)\n",
    "        for d in range (1, n):\n",
    "            if ((d*e)%((p-1)*(q-1))==1):\n",
    "                print (    'd = ', d)  \n",
    "    "
   ]
  },
  {
   "cell_type": "markdown",
   "id": "3c55ef0a-0f3e-420b-b1bc-6e54dee2893e",
   "metadata": {},
   "source": [
    "<a name=\"primzahlen\"></a>\n",
    "### 7. Die 168 Primzahlen zwischen 1 und 1000\n",
    "\n",
    "Eine Primzahl ist eine natürliche Zahl **grösser** als 1, die nur durch 1 und sich selbst teilbar ist. Da 1 nur einen einzigen Teiler hat (nämlich sich selbst), erfüllt sie diese Bedingung nicht und gehört deshalb nicht zu den Primzahlen.\n",
    "\n",
    "<img src='Bilder/Primzahlen_1000.PNG'>"
   ]
  },
  {
   "cell_type": "markdown",
   "id": "2d12ff76-6314-45e8-8cd5-a36f05cce5e3",
   "metadata": {},
   "source": [
    "<a name=\"experimente\"></a>\n",
    "### 8. Eigene Experimente\n",
    "\n",
    "Hier sind die Programmteile noch einmal zusammengefasst. Sie müssen nur zwei Primzahlen aus der obigen Liste auswählen und eingeben. Danach wird eine Liste mit möglichen Werten für $e$ und $d$ ausgedruckt. Aus dieser können Sie sich einen gültigen öffentlichen und privaten Schlüssel aussuchen. Danach können Sie die Schlüssel zum Verschlüsseln und zum Entschlüsseln selbst ausprobieren. Achten Sie jeweils darauf, dass die zu verschlüsselnde Zahl $m$ kleiner als das Produkt der eingegebenen Primzahlen ist, also $m<p \\cdot q=n$."
   ]
  },
  {
   "cell_type": "code",
   "execution_count": 23,
   "id": "bc29cff8-3d4e-4304-b889-866934aa9f17",
   "metadata": {},
   "outputs": [
    {
     "name": "stdin",
     "output_type": "stream",
     "text": [
      "Geben Sie zwei Primzahlen ein (durch Komma getrennt):  101, 211\n"
     ]
    },
    {
     "name": "stdout",
     "output_type": "stream",
     "text": [
      "210\n",
      "e =  1     d =  1\n",
      "e =  11     d =  19091\n",
      "e =  13     d =  8077\n",
      "e =  17     d =  12353\n",
      "e =  19     d =  16579\n",
      "e =  23     d =  20087\n",
      "e =  29     d =  5069\n",
      "e =  31     d =  12871\n",
      "e =  37     d =  3973\n",
      "e =  41     d =  2561\n",
      "e =  43     d =  3907\n",
      "e =  47     d =  9383\n",
      "e =  53     d =  8717\n",
      "e =  59     d =  5339\n",
      "e =  61     d =  6541\n",
      "e =  67     d =  9403\n",
      "e =  71     d =  11831\n",
      "e =  73     d =  20137\n",
      "e =  79     d =  4519\n",
      "e =  83     d =  20747\n",
      "e =  89     d =  15809\n",
      "e =  97     d =  433\n",
      "e =  101     d =  7901\n",
      "e =  103     d =  8767\n",
      "e =  107     d =  8243\n",
      "e =  109     d =  10789\n",
      "e =  113     d =  8177\n",
      "e =  121     d =  11281\n",
      "e =  127     d =  13063\n",
      "e =  131     d =  5771\n",
      "e =  137     d =  1073\n",
      "e =  139     d =  15259\n",
      "e =  143     d =  16007\n",
      "e =  149     d =  16349\n",
      "e =  151     d =  13351\n",
      "e =  157     d =  8293\n",
      "e =  163     d =  20227\n",
      "e =  167     d =  503\n",
      "e =  169     d =  11929\n",
      "e =  173     d =  17237\n",
      "e =  179     d =  18419\n",
      "e =  181     d =  5221\n",
      "e =  187     d =  1123\n",
      "e =  191     d =  18911\n",
      "e =  193     d =  13057\n",
      "e =  197     d =  533\n",
      "e =  199     d =  3799\n",
      "e =  209     d =  18689\n"
     ]
    }
   ],
   "source": [
    "# Hier erfolgt die Eingabe der beiden Primzahlen und die Berechnung von Phi\n",
    "eingabe = input(\"Geben Sie zwei Primzahlen ein (durch Komma getrennt): \")\n",
    "eingabe_string = eingabe.split(',')\n",
    "p = int(eingabe_string[0])\n",
    "q = int(eingabe_string[1])\n",
    "n=p*q\n",
    "phi=(p-1)*(q-1)\n",
    "\n",
    "# Funktion zur Bestimmung des ggT\n",
    "def ggt(a, b):\n",
    "    r=a%b\n",
    "    while r:\n",
    "        a=b\n",
    "        b=r\n",
    "        r=a%b\n",
    "    return (b)\n",
    "\n",
    "# Nun müssen Zahlen e gefunden werden, die teilerfremd zu p-1 und q-1 sind sowie die dazugehörigen d-Werte\n",
    "bis=max([p-1, q-1])\n",
    "print (bis)\n",
    "for x in range (1, bis):\n",
    "    if (ggt(p-1, x)==1) and (ggt(q-1, x)==1):\n",
    "        e=x\n",
    "        for d in range (1, (p-1)*(q-1)):\n",
    "            if ((d*e)%((p-1)*(q-1))==1):\n",
    "                print ('e = ', e, '    d = ', d)  "
   ]
  },
  {
   "cell_type": "code",
   "execution_count": 24,
   "id": "4672e9f4-7e0c-4a12-b68f-d29c480f4d6f",
   "metadata": {},
   "outputs": [
    {
     "name": "stdin",
     "output_type": "stream",
     "text": [
      "Wählen Sie eine mögliche Kombination von e und d (durch Komma getrennt), aus obiger Liste aus:  97, 433\n"
     ]
    }
   ],
   "source": [
    "# Hier erfolgt die Eingabe der beiden Primzahlen und die Berechnung von Phi\n",
    "eingabe = input(\"Wählen Sie eine mögliche Kombination von e und d (durch Komma getrennt), aus obiger Liste aus: \")\n",
    "eingabe_string = eingabe.split(',')\n",
    "e = int(eingabe_string[0])\n",
    "d = int(eingabe_string[1])\n"
   ]
  },
  {
   "cell_type": "code",
   "execution_count": 25,
   "id": "3206d66f-ac6e-4fb8-8683-bea4d70e5009",
   "metadata": {},
   "outputs": [
    {
     "name": "stdout",
     "output_type": "stream",
     "text": [
      "Der öffentliche Schlüssel ist:  ( 97 , 21311 )\n",
      "Der private Schlüssel ist:  ( 433 , 21311 )\n"
     ]
    }
   ],
   "source": [
    "print('Der öffentliche Schlüssel ist:  (',e,',',n,')')\n",
    "print('Der private Schlüssel ist:  (',d,',',n,')')"
   ]
  },
  {
   "cell_type": "code",
   "execution_count": 30,
   "id": "58f66aa9-2678-4f86-a443-c32933335ea3",
   "metadata": {},
   "outputs": [
    {
     "name": "stdin",
     "output_type": "stream",
     "text": [
      "Geben Sie die zu verschlüsselnde Zahl ein:  15100\n"
     ]
    },
    {
     "name": "stdout",
     "output_type": "stream",
     "text": [
      "Die verschlüsselte Zahl ist x =  14451\n"
     ]
    }
   ],
   "source": [
    "# Hier erfolgt die Eingabe der zu verschlüsselnden Zahl:\n",
    "eingabe = input(\"Geben Sie die zu verschlüsselnde Zahl ein: \")\n",
    "eingabe_string = eingabe.split(',')\n",
    "m = int(eingabe)\n",
    "x=pow(m, e)%n\n",
    "print('Die verschlüsselte Zahl ist x = ', x)"
   ]
  },
  {
   "cell_type": "code",
   "execution_count": 31,
   "id": "da3efa9d-d545-463a-bdc4-bdd679eefbf5",
   "metadata": {},
   "outputs": [
    {
     "name": "stdout",
     "output_type": "stream",
     "text": [
      "Die rekonstruierte Zahl ist: mr =  15100\n"
     ]
    }
   ],
   "source": [
    "mr=pow(x, d)%n\n",
    "print('Die rekonstruierte Zahl ist: mr = ', mr)"
   ]
  },
  {
   "cell_type": "markdown",
   "id": "9b3e7854-4b5a-4721-8d76-864219fd4d44",
   "metadata": {},
   "source": [
    "**Aufgabe:** Gehen Sie zu dem konkreten Beispiel im Buch aud S. 263. Probieren Sie verschiedene Schlüssel aus. Falls Sie lust am Programmieren haben, erstellen Sie ein Programm, das einen Text gemäss der vorgeschlagenen Codierung in Zahlen umwandelt und anschliessend mit **rsa** verschlüsselt und wieder entschlüsselt."
   ]
  },
  {
   "cell_type": "code",
   "execution_count": null,
   "id": "1f616e45-6b8b-43af-8696-8385eb8ee439",
   "metadata": {},
   "outputs": [],
   "source": []
  }
 ],
 "metadata": {
  "kernelspec": {
   "display_name": "Python 3 (ipykernel)",
   "language": "python",
   "name": "python3"
  },
  "language_info": {
   "codemirror_mode": {
    "name": "ipython",
    "version": 3
   },
   "file_extension": ".py",
   "mimetype": "text/x-python",
   "name": "python",
   "nbconvert_exporter": "python",
   "pygments_lexer": "ipython3",
   "version": "3.11.11"
  }
 },
 "nbformat": 4,
 "nbformat_minor": 5
}
