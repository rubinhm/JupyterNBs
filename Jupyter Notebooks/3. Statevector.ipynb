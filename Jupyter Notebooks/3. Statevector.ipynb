{
 "cells": [
  {
   "cell_type": "markdown",
   "id": "ac95230d-acb6-44a9-906f-07ce9e1101e2",
   "metadata": {
    "tags": []
   },
   "source": [
    "# 3. Statevector\n",
    "\n",
    "Hier geht es um die Darstellung der **Zustandsvektoren** entweder eines Qubits oder eines Registers (bestehend aus $n$ Qubits). Dabei ist der Zustandsvektor ein $2^n$-komponentiger Vektor mit (im Allg.) komplexen Komponenten (Amplituden). Zu beachten ist, dass die üblicherweise mit $i$ geschriebene imaginäre Einheit hier mit $j$ dargestellt wird. "
   ]
  },
  {
   "cell_type": "markdown",
   "id": "a92d722a-89d0-48a3-8fde-ac88c2d2933f",
   "metadata": {
    "tags": []
   },
   "source": [
    "Zunächst werden die benötigten Komponenten eingebunden und das Backend festgelegt:"
   ]
  },
  {
   "cell_type": "code",
   "execution_count": 1,
   "id": "f0be96e1-5c43-4321-a5ba-1cc4862ef5ad",
   "metadata": {
    "tags": []
   },
   "outputs": [],
   "source": [
    "from qiskit import QuantumCircuit, BasicAer\n",
    "backend = BasicAer.get_backend('statevector_simulator')\n"
   ]
  },
  {
   "cell_type": "code",
   "execution_count": 2,
   "id": "b9a112ff-15e3-40ed-9459-f2d569ef452c",
   "metadata": {
    "tags": []
   },
   "outputs": [
    {
     "data": {
      "image/png": "[encoded data removed]",
      "text/plain": [
       "<Figure size 370.906x200.667 with 1 Axes>"
      ]
     },
     "execution_count": 2,
     "metadata": {},
     "output_type": "execute_result"
    }
   ],
   "source": [
    "qc = QuantumCircuit(2) # Schaltkreis wird mit zwei Qubits (q_0 und q_1) definiert\n",
    "qc.initialize([0,1], 1) # Das zweite Qubit (q_1) wird im Zustand 1 initialisiert\n",
    "qc.barrier() # Barriere einfügen zur optischen Abgrenzung von Präparation und Operation\n",
    "qc.h(0) # Auf qubit q_0 wird die Hadamard-Transformation angewendet\n",
    "qc.h(1) # Auf qubit q_1 wird ebenfalls die Hadamard-Transformation angewendet\n",
    "qc.draw('mpl') # Schaltkreis wird mithilfe der MathPlotLib schön gezeichnet."
   ]
  },
  {
   "cell_type": "markdown",
   "id": "964dea80-96f4-4b8a-8c44-f430161304fc",
   "metadata": {},
   "source": [
    "Probieren Sie die Funktion `.draw()` auch mit dem Argument `'latex'` und auch ohne Argument aus!"
   ]
  },
  {
   "cell_type": "markdown",
   "id": "403df2fb-91d1-4491-8e91-b41b2b817484",
   "metadata": {},
   "source": [
    "Nun müssen die beiden Hadamard-Transformationen auch ausgeführt werden. Dazu muss die Funktion *execute* importiert werden:"
   ]
  },
  {
   "cell_type": "code",
   "execution_count": 3,
   "id": "316cf202-27fe-4fb6-a03d-ac84c377a0e0",
   "metadata": {
    "tags": []
   },
   "outputs": [],
   "source": [
    "from qiskit.execute_function import execute\n",
    "job = execute(qc, backend)"
   ]
  },
  {
   "cell_type": "markdown",
   "id": "f2921f52-c742-4afb-9997-0fd05fa99ec4",
   "metadata": {},
   "source": [
    "Die Funktion *execute* wird auf den Quantenschaltkreis *qc* mit dem oben gewählten Backend *statevector_simulator* ausgeübt."
   ]
  },
  {
   "cell_type": "code",
   "execution_count": 4,
   "id": "795f9c35-dace-4a02-bb7e-3469221487ba",
   "metadata": {
    "tags": []
   },
   "outputs": [],
   "source": [
    "result = job.result() # Ergebnisausgabe"
   ]
  },
  {
   "cell_type": "markdown",
   "id": "6a929889-4319-4b1d-8274-e69684d533a1",
   "metadata": {
    "tags": []
   },
   "source": [
    "Wenn es Sie interessiert, welche Informationen in der Variablen `result` gespeichert sind, drucken Sie sie mit `print (result)` aus. Aus dieser Variablen `result` muss nun der `statevector` (als Vektor-Variable) extrahiert werden:"
   ]
  },
  {
   "cell_type": "code",
   "execution_count": 5,
   "id": "5d81cf32-d03d-444c-a87f-e1be72120f57",
   "metadata": {
    "tags": []
   },
   "outputs": [
    {
     "name": "stdout",
     "output_type": "stream",
     "text": [
      "[ 0.5-6.123234e-17j  0.5-6.123234e-17j -0.5+6.123234e-17j\n",
      " -0.5+6.123234e-17j]\n"
     ]
    }
   ],
   "source": [
    "state_vector = result.get_statevector() #Extraktion des Zustandsvektors\n",
    "print(state_vector) # Ausgabe des Zustandsvektors als Zeilenvektor mit vier (komplexen) Komponenten"
   ]
  },
  {
   "cell_type": "markdown",
   "id": "177f0af8-59d3-4447-863b-42390b633bbc",
   "metadata": {},
   "source": [
    "Das Resultat ist ein vierkomponentiger Vektor mit nur reellen komponenten. Die imaginären Anteile werden trotzdem mit `0.0000j` angegeben. Vereinfacht dargestellt:  [0.5&nbsp;0.5&nbsp;-0.5&nbsp;-0.5].\n",
    "\n",
    "**Kleine Übung:** Rechnen Sie den Schaltkreis von Hand durch und vergleichen Sie mit dem obigen Resultat."
   ]
  },
  {
   "cell_type": "markdown",
   "id": "04d1945c-158d-415a-b645-8d8bfb5870eb",
   "metadata": {
    "tags": []
   },
   "source": [
    "**Lösung:**\n",
    "\n",
    "\n",
    " \n",
    " $H_{01}|01\\rangle = H|0\\rangle H|1\\rangle=\\frac{1}{\\sqrt{2}}\\left[|0\\rangle+|1\\rangle\\right]\\cdot\\frac{1}{\\sqrt{2}}\\left[|0\\rangle-|1\\rangle\\right]$:\n",
    "  <p>\n",
    "    $$\\langle 1|0\\rangle = \\begin{bmatrix} 0 , & 1\\end{bmatrix}\\begin{bmatrix} 1 \\\\ 0\\end{bmatrix} = 0$$\n",
    "  </p>  \n",
    "  Bei  normierten Vektoren liefert das innere Produkt den Wert $1$, wie man an den beiden Basisvektoren  $|0\\rangle$ and $|1\\rangle$ sehen kann:\n",
    "    \n",
    "$$\n",
    "      \\begin{aligned} \n",
    "      \\langle0|0\\rangle & = \\begin{bmatrix} 1 , & 0\\end{bmatrix}\\begin{bmatrix}1 \\\\ 0\\end{bmatrix} = 1 \\\\\n",
    "      \\langle1|1\\rangle & = \\begin{bmatrix} 0 , & 1\\end{bmatrix}\\begin{bmatrix}0 \\\\ 1\\end{bmatrix} = 1\n",
    "      \\end{aligned}\n",
    "$$\n",
    "   "
   ]
  },
  {
   "cell_type": "code",
   "execution_count": null,
   "id": "420bd57f-951e-4639-9423-fdcb39fdf663",
   "metadata": {},
   "outputs": [],
   "source": []
  },
  {
   "cell_type": "code",
   "execution_count": null,
   "id": "a759c2ef-5af2-404e-8811-6b00fcca8363",
   "metadata": {},
   "outputs": [],
   "source": []
  }
 ],
 "metadata": {
  "kernelspec": {
   "display_name": "Python 3 (ipykernel)",
   "language": "python",
   "name": "python3"
  },
  "language_info": {
   "codemirror_mode": {
    "name": "ipython",
    "version": 3
   },
   "file_extension": ".py",
   "mimetype": "text/x-python",
   "name": "python",
   "nbconvert_exporter": "python",
   "pygments_lexer": "ipython3",
   "version": "3.11.11"
  },
  "widgets": {
   "application/vnd.jupyter.widget-state+json": {
    "state": {},
    "version_major": 2,
    "version_minor": 0
   }
  }
 },
 "nbformat": 4,
 "nbformat_minor": 5
}
