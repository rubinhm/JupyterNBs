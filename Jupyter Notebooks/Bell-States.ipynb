{
 "cells": [
  {
   "cell_type": "markdown",
   "id": "fefdb7e0-2708-4ddb-ae22-a40ba5b89b91",
   "metadata": {},
   "source": [
    "# Erzeugung der vier Bell-Zustände mit Qiskit\n",
    "\n",
    "\n",
    "## Weshalb vier Bell-Zustände?\n",
    "Die folgende Abb. zeigt die Verschränkungsoperation für zwei Qubits, wie in Kap. 17.3 auf S. 195 beschrieben:\n",
    "\n",
    "<img src=\"Bilder\\Bell_1.png\" width=\"600 px\">\n",
    "\n",
    "Die Operation lässt sich nicht nur auf $|00\\rangle$ sondern auch auf die anderen drei Basiszustände $|01\\rangle$, $|10\\rangle$ und $|11\\rangle$ anwenden. Dabei kommen jeweils unterschiedlich verschränkte Zustände heraus, die vier Bell-Zustände:\n",
    "$$\n",
    "\\begin{aligned}\n",
    "   |00\\rangle\\longmapsto \\Phi^+=\\frac{1}{\\sqrt{2}}|00\\rangle+\\frac{1}{\\sqrt{2}}|11\\rangle\\\\\n",
    "   |01\\rangle\\longmapsto \\Psi^+=\\frac{1}{\\sqrt{2}}|01\\rangle+\\frac{1}{\\sqrt{2}}|10\\rangle\\\\\n",
    "   |10\\rangle\\longmapsto \\Phi^-=\\frac{1}{\\sqrt{2}}|00\\rangle-\\frac{1}{\\sqrt{2}}|11\\rangle\\\\\n",
    "   |11\\rangle\\longmapsto \\Psi^-=\\frac{1}{\\sqrt{2}}|01\\rangle-\\frac{1}{\\sqrt{2}}|10\\rangle\n",
    "    \\end{aligned}\n",
    "$$\n",
    "\n",
    "In dieser Reihenfolge erscheinen die Resultate, wenn man die Qbit-Reihenfolge $|q_0 q_1 \\dots q_n\\rangle$ verwendet und die Reihenfolge der Basiszustände von oben beachtet. Das oberste Qubit wird demnach als das erste Qubit links wählt. Rechnen Sie selbst nach! Kap. 17.3 auf S. 195ergleichen Sie ggf. mit Kap. 17.3 auf S. 195 im Buch.\n",
    "\n",
    "## Die Standardbasis\n",
    "\n",
    "Die vier Zustandsvektoren $|00\\rangle$, $|01\\rangle$, $|10\\rangle$ und $|11\\rangle$ bilden die Basis aus der heraus jeder Zustand eines Zwei-Qubit Quantenregisters durch Linearkombination dargestellt werden kann. Diese Zustandsvektoren können deshalb durch vierkomponentige euklidsche Vektoren dargestellt werden. Dabei gilt die folgende Zuordnung:\n",
    "\n",
    "$|00\\rangle=\\begin{bmatrix} 1\\\\0 \\\\ 0\\\\ 0 \\end{bmatrix}$, $|01\\rangle=\\begin{bmatrix} 0\\\\1 \\\\ 0\\\\ 0 \\end{bmatrix}$, $|10\\rangle=\\begin{bmatrix} 0\\\\0 \\\\ 1\\\\ 0 \\end{bmatrix}$, $|11\\rangle=\\begin{bmatrix} 0\\\\0 \\\\ 0\\\\ 1 \\end{bmatrix}$. Die Hadamard-Transformation auf $q_0$ in dieser Basis stellt sich als Tensor- bzw. Kronecker-Produkt dar: $\\frac{1}{\\sqrt{2}}\\begin{bmatrix}1 &1\\\\1&-1\\end{bmatrix}\\otimes \\begin{bmatrix}1 &0\\\\0&1\\end{bmatrix}=\\frac{1}{\\sqrt{2}}\\begin{bmatrix}1&0&1&0\\\\0&1&0&1\\\\1&0&-1&0\\\\0&1&0&-1\\end{bmatrix}$\n",
    "\n",
    "Das $CNOT$-Gate mit $q_0$ als Kontroll-Bit ist in dieser Basis als vierreihige Matrix zu schreiben: $CNOT=\\begin{bmatrix}1&0&0&0\\\\0&1&0&0\\\\0&0&0&1\\\\0&0&1&0\\end{bmatrix}$\n",
    "\n",
    "Damit können wir $CNOT,H$ als Matrix-Produkt schreiben: $$CNOT, H=\\frac{1}{\\sqrt{2}}\\begin{bmatrix}1&0&0&0\\\\0&1&0&0\\\\0&0&0&1\\\\0&0&1&0\\end{bmatrix}\\cdot \\begin{bmatrix}1&0&1&0\\\\0&1&0&1\\\\1&0&-1&0\\\\0&1&0&-1\\end{bmatrix} = \\frac{1}{\\sqrt{2}}\\begin{bmatrix}1&0&1&0\\\\0&1&0&1\\\\0&1&0&-1\\\\1&0&-1&0\\end{bmatrix}$$\n",
    "\n",
    "Wenden Sie nun diese Matrix der Reihe nach auf die vier Basisvektoren an, erhalten Sie die oben aufgelisteten vier Bell-Zustände in derselben Reihenfolge. Überprüfen Sie die Rechnung und schauen Sie dazu ggf. noch einmal in Kapitel 21.2, S. 277 im Buch nach.\n",
    "\n",
    "\n",
    "## Was zeichnet verschränkte Zustände aus?\n",
    "\n",
    "Die gemeinsame Eigenschaft der verschränkten Zustände ist leicht erkennbar: Alle vier Zustandsfunktionen lassen sich **nicht** in ein Produkt zerlegen. Dies wäre aber die Bedingung dafür, dass man diese Zustände aus zwei unabhängigen Qubit-Zuständen zusammengesetzt denken kann. Wir erinnern uns, dass wir den Zustand eines Registers als Produkt der Zustände der einzelnen Qubits bestimmt haben. Das bedeutet: Bei verschränkten Zuständen können die daran beteiligten Qubits nicht mehr als individuelle, eigenständige Objekte aufgefasst werden, Sie bilden eine untrennbare Einheit. Das ist das Wesen der Verschränkung. \n",
    "\n",
    "Anders sieht es bei nicht verschränkten oder teilverschränkten Qubits aus. Betrachten wir dazu z. B. den Zustand:\n",
    "\n",
    "$$\\frac{1}{\\sqrt{2}}|01\\rangle+\\frac{1}{\\sqrt{2}}|11\\rangle=\\frac{1}{\\sqrt{2}}\\left(|0\\rangle+|1\\rangle\\right)\\cdot|1\\rangle=\\frac{1}{\\sqrt{2}}\\begin{bmatrix} 0\\\\1 \\\\ 0\\\\ 1 \\end{bmatrix}$$\n",
    "\n",
    "Dieser Zustand lässt sich in ein Produkt zerlegen, das heisst, dass er aus zwei unabhängig voneinander existierenden Qubits zusammengesetzt ist. Das äussert sich auch in der Tatsache, dass dieser Zustand auch mit der Funktion Bloch-Multivector dargestellt werden kann. Vgl. Sie dazu das Notebook Nr. 7.\n",
    "\n",
    "\n"
   ]
  },
  {
   "cell_type": "markdown",
   "id": "ffaed452-f2d5-404b-b037-f39aa6682589",
   "metadata": {},
   "source": [
    "## Darstellung von Qubits in Qiskit\n",
    "\n",
    "In Qiskit werden die Zustandsvektoren (State_Vector) als Zeilenvektoren geschrieben. Der obige Zustandsvektor schreibt sich demnach als:\n",
    "\n",
    "$$\\begin{bmatrix}0, & \\frac{1}{\\sqrt{2}}, & 0 & \\frac{1}{\\sqrt{2}}\\end{bmatrix}=\\begin{bmatrix}0+0i, & 0.70710678+0i, & 0+0i & 0.70710678+0i\\end{bmatrix}$$\n",
    "\n",
    "Bzw. im Qiskit-Coputerausdruck mit $i\\mapsto j$: `[0. +0.j    0.70710678+0.j      0. +0.j       0.70710678+0.j]`\n",
    "\n",
    "Weiterhin zu beachten ist, dass in Qiskit die Bitreihenfolge gegenüber der herkömmlichen, oft verwendeten umgedreht ist: $|q_0, q_1, \\dots, q_n\\rangle \\mapsto |q_n, \\dots, q_1, q_0\\rangle$. Das oberste Qubit $q_0$ in einem Quantenschaltkreis steht im Zustandsvektor ganz rechts und das unterste ganz links. Dies hat zurfolge, dass sich die Reihenfolge der Bell-Zustände ändert und dass für die Berechnung des vierten Bell-Zustands $\\Psi^-$ noch zwei $Z$-Gates erforderlich sind. Die Schaltkreise und die Zustände, wie sie sich in Qiskit ergeben sind in der Abb. unten aufgelistet:\n",
    "\n"
   ]
  },
  {
   "cell_type": "markdown",
   "id": "3c67de59-016e-44c7-82c9-4abe74b3cc1b",
   "metadata": {},
   "source": [
    "<img src=\"Bilder\\Bell.png\" width=\"1000 px\">"
   ]
  },
  {
   "cell_type": "markdown",
   "id": "b3c89b49-da73-4d88-b88f-d7fdf0389ff6",
   "metadata": {},
   "source": [
    "## Berechnung der Bell-Zustände mit Qiskit\n",
    "\n",
    "Im Folgenden sind die Programmzeilen für Qiskit (0.43.1) aufgelistet, die Schaltkreise gezeichnet und die Ergebnisse als State-Vector ausgedruckt.\n",
    "\n",
    "Zunächst werden die benötigten Module geladen:"
   ]
  },
  {
   "cell_type": "code",
   "execution_count": 1,
   "id": "bdaba5a9-3b93-4ba3-a5de-9d2694073292",
   "metadata": {},
   "outputs": [],
   "source": [
    "from qiskit import QuantumCircuit, BasicAer\n",
    "from qiskit.execute_function import execute\n",
    "backend = BasicAer.get_backend('statevector_simulator')"
   ]
  },
  {
   "cell_type": "markdown",
   "id": "400d2a49-3844-4929-98f4-8c39bd5c537d",
   "metadata": {},
   "source": [
    "### Erzeugung des ersten Bell-Zustands"
   ]
  },
  {
   "cell_type": "code",
   "execution_count": 2,
   "id": "b1cb0f37-171e-48ed-a035-8741c28d8ff0",
   "metadata": {},
   "outputs": [
    {
     "data": {
      "image/png": "[encoded data removed]",
      "text/plain": [
       "<Figure size 287.294x200.667 with 1 Axes>"
      ]
     },
     "execution_count": 2,
     "metadata": {},
     "output_type": "execute_result"
    }
   ],
   "source": [
    "circuit = QuantumCircuit(2)\n",
    "circuit.h(0) # Hadamard gate \n",
    "circuit.cx(0,1) # CNOT gate\n",
    "circuit.draw('mpl')    "
   ]
  },
  {
   "cell_type": "markdown",
   "id": "2b34595f-bdc2-489a-9e6b-da415ed409ef",
   "metadata": {},
   "source": []
  },
  {
   "cell_type": "code",
   "execution_count": 3,
   "id": "5955ba67-9ab6-4b9d-8c8f-19c03141e1af",
   "metadata": {},
   "outputs": [
    {
     "name": "stdout",
     "output_type": "stream",
     "text": [
      "[0.70710678+0.j 0.        +0.j 0.        +0.j 0.70710678+0.j]\n"
     ]
    }
   ],
   "source": [
    "job = execute(circuit, backend)\n",
    "result = job.result().get_statevector()#Extraktion des Zustandsvektors\n",
    "print(result)# Ausgabe des Zustandsvektors als Zeilenvektor mit vier (komplexen) Komponenten"
   ]
  },
  {
   "cell_type": "markdown",
   "id": "6cfad7f9-4324-484d-a14f-3bd5b8aa17d9",
   "metadata": {},
   "source": [
    "Der **Statevector** ausgeschrieben: $\\begin{bmatrix}\\frac{1}{\\sqrt{2}}, & 0, & 0 & \\frac{1}{\\sqrt{2}}\\end{bmatrix}=\\frac{1}{\\sqrt{2}}\\begin{bmatrix} 1\\\\0 \\\\ 0\\\\ 1 \\end{bmatrix}=\\Phi^+$. Das entspricht der ersten Spalte in der $CNOT,H$-Matrix"
   ]
  },
  {
   "cell_type": "markdown",
   "id": "f16e5baf-f424-421f-8baf-98b235e61496",
   "metadata": {},
   "source": [
    "### Erzeugung des zweiten Bell-Zustands"
   ]
  },
  {
   "cell_type": "code",
   "execution_count": 4,
   "id": "380c5e1f-d3a1-46f5-91ca-1efb7d88b93f",
   "metadata": {},
   "outputs": [
    {
     "data": {
      "image/png": "[encoded data removed]",
      "text/plain": [
       "<Figure size 370.906x200.667 with 1 Axes>"
      ]
     },
     "execution_count": 4,
     "metadata": {},
     "output_type": "execute_result"
    }
   ],
   "source": [
    "circuit = QuantumCircuit(2)\n",
    "circuit.x(0) # Pauli-X gate \n",
    "circuit.h(0) # Hadamard gate\n",
    "circuit.cx(0,1) # CNOT gate\n",
    "circuit.draw('mpl')\n"
   ]
  },
  {
   "cell_type": "code",
   "execution_count": 5,
   "id": "8881a31c-bd47-43ae-ad13-2dd5041aa66f",
   "metadata": {},
   "outputs": [
    {
     "name": "stdout",
     "output_type": "stream",
     "text": [
      "[ 0.70710678+0.00000000e+00j  0.        +0.00000000e+00j\n",
      "  0.        +0.00000000e+00j -0.70710678-8.65956056e-17j]\n"
     ]
    }
   ],
   "source": [
    "job = execute(circuit, backend)\n",
    "result = job.result().get_statevector()#Extraktion des Zustandsvektors\n",
    "print(result)# Ausgabe des Zustandsvektors als Zeilenvektor mit vier (komplexen) Komponenten"
   ]
  },
  {
   "cell_type": "markdown",
   "id": "af226caa-df00-45f1-acca-9814ed2cfaba",
   "metadata": {},
   "source": [
    "Der **Statevector** ausgeschrieben: $\\begin{bmatrix}\\frac{1}{\\sqrt{2}}, & 0, & 0 & -\\frac{1}{\\sqrt{2}}\\end{bmatrix}=\\frac{1}{\\sqrt{2}}\\begin{bmatrix} 1\\\\0 \\\\ 0\\\\ -1 \\end{bmatrix}=\\Phi^-$. Das entspricht der dritten Spalte in der $CNOT,H$-Matrix"
   ]
  },
  {
   "cell_type": "markdown",
   "id": "5f93ae39-7853-464c-9aa4-c8bcaac71636",
   "metadata": {},
   "source": [
    "### Erzeugung des dritten Bell-Zustands"
   ]
  },
  {
   "cell_type": "code",
   "execution_count": 6,
   "id": "b70875c8-1123-459b-af3d-4ee5f5659c05",
   "metadata": {},
   "outputs": [
    {
     "data": {
      "image/png": "[encoded data removed]",
      "text/plain": [
       "<Figure size 287.294x200.667 with 1 Axes>"
      ]
     },
     "execution_count": 6,
     "metadata": {},
     "output_type": "execute_result"
    }
   ],
   "source": [
    "circuit = QuantumCircuit(2)\n",
    "circuit.x(1) # Pauli-X gate \n",
    "circuit.h(0) # Hadamard gate \n",
    "circuit.cx(0,1) # CNOT gate\n",
    "circuit.draw('mpl')"
   ]
  },
  {
   "cell_type": "code",
   "execution_count": 7,
   "id": "ab10270b-88ef-42ae-b216-b36787010f74",
   "metadata": {},
   "outputs": [
    {
     "name": "stdout",
     "output_type": "stream",
     "text": [
      "[0.        +0.j 0.70710678+0.j 0.70710678+0.j 0.        +0.j]\n"
     ]
    }
   ],
   "source": [
    "job = execute(circuit, backend)\n",
    "result = job.result().get_statevector()#Extraktion des Zustandsvektors\n",
    "print(result)# Ausgabe des Zustandsvektors als Zeilenvektor mit vier (komplexen) Komponenten"
   ]
  },
  {
   "cell_type": "markdown",
   "id": "00634bd8-544c-4f99-b428-a8ea656280d3",
   "metadata": {},
   "source": [
    "Der **Statevector** ausgeschrieben: $\\begin{bmatrix}0, & \\frac{1}{\\sqrt{2}}, & \\frac{1}{\\sqrt{2}} & 0\\end{bmatrix}=\\frac{1}{\\sqrt{2}}\\begin{bmatrix} 0\\\\1 \\\\ 1\\\\ 0 \\end{bmatrix}=\\Psi^+$. Das entspricht der zweiten Spalte in der $CNOT,H$-Matrix"
   ]
  },
  {
   "cell_type": "markdown",
   "id": "28810b0c-68b7-4eab-b782-0501072815a0",
   "metadata": {},
   "source": [
    "### Erzeugung des vierten Bell-Zustands"
   ]
  },
  {
   "cell_type": "code",
   "execution_count": 8,
   "id": "2fd9a6ce-a132-4696-bd51-c6a42b8ce37a",
   "metadata": {},
   "outputs": [
    {
     "data": {
      "image/png": "[encoded data removed]",
      "text/plain": [
       "<Figure size 370.906x200.667 with 1 Axes>"
      ]
     },
     "execution_count": 8,
     "metadata": {},
     "output_type": "execute_result"
    }
   ],
   "source": [
    "circuit = QuantumCircuit(2)\n",
    "circuit.x(1) # Pauli-X gate \n",
    "circuit.h(0) # Hadamard gate\n",
    "circuit.z(0) # Pauli-Z gate\n",
    "circuit.z(1) # Pauli-Z gate\n",
    "circuit.cx(0,1) # CNOT gate\n",
    "circuit.draw('mpl')"
   ]
  },
  {
   "cell_type": "code",
   "execution_count": 9,
   "id": "5e0c1535-3e26-420d-ae9f-c10e4ee0b6b7",
   "metadata": {},
   "outputs": [
    {
     "name": "stdout",
     "output_type": "stream",
     "text": [
      "[ 0.        +0.00000000e+00j  0.70710678+1.73191211e-16j\n",
      " -0.70710678-8.65956056e-17j  0.        +0.00000000e+00j]\n"
     ]
    }
   ],
   "source": [
    "job = execute(circuit, backend)\n",
    "result = job.result().get_statevector()#Extraktion des Zustandsvektors\n",
    "print(result)# Ausgabe des Zustandsvektors als Zeilenvektor mit vier (komplexen) Komponenten"
   ]
  },
  {
   "cell_type": "markdown",
   "id": "17bed993-2d4f-464f-907d-74c42a89a4f5",
   "metadata": {},
   "source": [
    "Der **Statevector** ausgeschrieben: $\\begin{bmatrix}0, & \\frac{1}{\\sqrt{2}}, & -\\frac{1}{\\sqrt{2}} & 0\\end{bmatrix}=\\frac{1}{\\sqrt{2}}\\begin{bmatrix} 0\\\\1 \\\\ -1\\\\ 0 \\end{bmatrix}=\\Psi^-$. Das entspricht der vierten Spalte in der $CNOT,H$-Matrix"
   ]
  },
  {
   "cell_type": "markdown",
   "id": "f1935c68-c4b8-4aa9-a961-a3784385db38",
   "metadata": {},
   "source": [
    "Wie man sieht, ist die Reihenfolge des zweiten und dritten Bell-Zustands gegenüber der ersten Definition vertauscht. Ohne die beiden $Z$-Gates beim vierten Bellzustand erhielte man als Ergebnis $\\Psi^-$.\n",
    "\n",
    "**Probieren* Sie es aus! Überlegen Sie sich auch, wie die Qiskit-Schaltkreise (für den zweiten und dritten) Bell-Zustand aussehen müssten, damit die ursprüngliche Reihenfolge herauskommt.\n",
    "\n",
    "Hier noch zwei Links, zu diesem und weiterführenden Themen:"
   ]
  },
  {
   "cell_type": "markdown",
   "id": "e2b0ad8c-769b-4391-b125-6ee472452dc6",
   "metadata": {},
   "source": [
    "\n",
    "\n",
    "[Introduction to Bell states in Qiskit with Code](https://quantumcomputinguk.org/tutorials/introduction-to-bell-states)\n",
    "\n",
    "[Introduction to Quantum Computing with Qiskit](https://quantumcomputinguk.org/shop/introduction-to-quantum-computing-with-qiskit-ebook-1)\n"
   ]
  },
  {
   "cell_type": "code",
   "execution_count": null,
   "id": "c37c18a9-fb02-4c3a-84a7-5d86a91ee5be",
   "metadata": {},
   "outputs": [],
   "source": []
  }
 ],
 "metadata": {
  "kernelspec": {
   "display_name": "Python 3 (ipykernel)",
   "language": "python",
   "name": "python3"
  },
  "language_info": {
   "codemirror_mode": {
    "name": "ipython",
    "version": 3
   },
   "file_extension": ".py",
   "mimetype": "text/x-python",
   "name": "python",
   "nbconvert_exporter": "python",
   "pygments_lexer": "ipython3",
   "version": "3.11.11"
  }
 },
 "nbformat": 4,
 "nbformat_minor": 5
}
