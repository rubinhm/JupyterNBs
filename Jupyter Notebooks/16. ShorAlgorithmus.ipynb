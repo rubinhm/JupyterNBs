{
 "cells": [
  {
   "cell_type": "markdown",
   "id": "cef6ecc3-9246-4ace-b5ee-610e3cea65bb",
   "metadata": {
    "editable": true,
    "slideshow": {
     "slide_type": ""
    },
    "tags": []
   },
   "source": [
    "# 16. Der Algorithmus von Shor\n",
    "\n",
    "Der Shor-Algorithmus nutzt die Eigenschaften des Quantencomputers, um die Faktorisierung grosser Zahlen effizient zu lösen. Damit stellt er eine Bedrohung für die Sicherheit vieler Verschlüsselungsverfahren dar, insbesondere für RSA, da er die Faktorisierung der Schlüsselzahlen ermöglicht. Der Shor-Algorithmus nutzt die sog. Periodenfindung und die Quanten-Superposition, um dieses Ziel zu erreichen. Dazu wird eine periodische Funktion, die auf der Zahl, die faktorisiert werden soll, basiert, verwendet."
   ]
  },
  {
   "cell_type": "markdown",
   "id": "dd860d87-35f3-4026-9150-ec420dd81f12",
   "metadata": {},
   "source": [
    "## Rekursive Faktorzerlegung\n",
    "\n",
    "Die Einfachste Methode, eine grosse Zahl $N$ zu faktorisieren und dabei alle Teiler zu finden, besteht darin, alle ganzen Zahlen $x$ von $1$ bis $N$ mit der Funktion $x\\ mod\\ N=0$ abzufragen. Das lässt sich mit einer For-Schleife und einer If-Abfrage leicht umsetzen. Das Programm dazu könnte wiefolgt aussehen:"
   ]
  },
  {
   "cell_type": "code",
   "execution_count": 1,
   "id": "2e14d0a6-b04d-4a92-91e9-f4a5b9835656",
   "metadata": {},
   "outputs": [
    {
     "name": "stdout",
     "output_type": "stream",
     "text": [
      "3\n",
      "9\n",
      "3607\n",
      "3803\n",
      "10821\n",
      "11409\n",
      "32463\n",
      "34227\n",
      "13717421\n",
      "41152263\n",
      "Fertig! Es wurden 10 nichttriviale Faktoren gefunden\n"
     ]
    }
   ],
   "source": [
    "N = int(123456789)     #Die zu faktorisierende Zahl wird in eine Integervariable umgewandelt\n",
    "k=0                    #Der Zähler wird auf 0 gesetzt\n",
    "for x in range (2,N):\n",
    "    if(N%x==0):        #Nur wenn N mod x =0 ist, teilt x ohne Rest\n",
    "        print (x)      #und x wird dann ausgedruckt\n",
    "        k+=1           #und der Zöhler wird um 1 erhöht\n",
    "print ('Fertig!', 'Es wurden', k, 'nichttriviale Faktoren gefunden') #Test, um zu sehen, dass die For-Schleife vollständig durchgelaufen und die Berechnung abgeschlossen ist"
   ]
  },
  {
   "cell_type": "markdown",
   "id": "7a87be64-07e8-437d-9019-0aa9d526e0fa",
   "metadata": {},
   "source": [
    "Das dauert schon ein paar Sekunden. Sie können die zu faktorisierende Zahl $N$ nun schrittweise vergrössern. Dabei werden Sie feststellen, dass sich mit jeder zusätzlichen Stelle die Berechnungsdauer etwa verzehnfacht. Die Rechenzeit hängt natürlich auch von der momentanen Auslastung Ihrer CPU ab. Mit der Funktion `int()` können Sie übrigens in Python beliebig lange Integerzahlen erzeugen. Wenn die Rechenzeit für die obige neun-stellige Zahl etwa $10\\ s$ dauert, dann muss man mit derselben Rechenleistung für eine zwanzigstellige Zahl schon etwa mit $10^{12}\\ s$ rechnen, was ungefähr einer Zeitspanne von $32'000$ Jahren entspricht. Es sind also effizientere Verfahren gesucht."
   ]
  },
  {
   "cell_type": "markdown",
   "id": "08f12b89-b854-42a2-9df0-ff26276ca2da",
   "metadata": {},
   "source": [
    "## Grundidee des Shor-Algorithmus:\n",
    "\n",
    "Der Shor-Algorithmus beruht auf der Idee, die **Ordnung** bzw. die **Periode** einer **Zahl modulo einer anderen Zahl** zu bestimmen. Diese Ordnung bzw. Periode ist die kleinste positive ganze Zahl, die die Exponentialfunktion mit einer Basis und einer gegebenen Zahl als Argument periodisch macht.\n",
    "\n",
    "Schritt für Schritt:\n",
    "\n",
    "1. **Problemstellung:** Es soll die Faktorisierung einer zusammengesetzten Zahl $N$ berechnet werden. \n",
    "\n",
    "2. **Zufallszahl wählen:** Eine zufällige Zahl $a$ kleiner als $N$ wird so gewählt, dass der grösste gemeinsame Teiler (ggT) von $a$ und $N$ (d. h. teilerfremd zu $N$) $1$ ist.\n",
    "  \n",
    "3. **Ordnung bestimmen:** Die Ordnung von $a\\ modulo\\ N$ wird bestimmt, d.h. die kleinste positive Zahl $r$, für die $a^r\\ mod\\ N = 1$ gilt.\n",
    "\n",
    "4. **Die Periode finden:** Die Ordnung $r$ wird mithilfe eines **Quantenalgorithmus** für die Periodenfindung bestimmt.\n",
    "\n",
    "5. **Teiler finden:** Wenn die Ordnung $r$ gerade ist, kann der Algorithmus einen nichttrivialen Teiler $ggT(a^{(r/2)} - 1,\\ N)$ von $N$ berechnen, der ein echter Teiler von $N$ ist, d.h. nicht $1$ oder $N$ selbst.\n",
    "\n",
    " \n",
    "Als **Ordnung** einer Zahl $q$ Modulo $N$ bezeichnet man die kleinste ganze Zahl $r$ mit der Eigenschaft, dass $q^r\\ mod\\ N = 1$ gilt. \n",
    "\n",
    "Betrachten wir dazu das einfaches Beispiel, für das der Algorithmus möglich ist: Wir suchen die Ordnung von $2\\ Modulo\\ 15$:\n",
    "\n",
    "$$2^0\\ mod\\ 15 = 1$$\n",
    "$$2^1\\ mod\\ 15 = 2$$\n",
    "$$2^2\\ mod\\ 15 = 4$$\n",
    "$$2^3\\ mod\\ 15 = 8$$\n",
    "$$2^4\\ mod\\ 15 = 1$$\n",
    "$$2^5\\ mod\\ 15 = 2$$\n",
    "$$2^6\\ mod\\ 15 = 4$$\n",
    "$$2^7\\ mod\\ 15 = 8$$\n",
    "$$2^8\\ mod\\ 15 = 1$$\n",
    "$$2^9\\ mod\\ 15 = 2$$\n",
    "$$2^{10}\\ mod\\ 15 = 4$$\n",
    "$$2^{11}\\ mod\\ 15 = 8$$\n",
    "$$2^{12}\\ mod\\ 15 = 1$$\n",
    "\n",
    "An diesem Beispiel sehen wir, dass die Funktion $2^x\\ mod\\ 15$ eine periodische Funktion ist und ihre Periode $r=4$ ist. Sie können die Reihe selbst weiterführen, die Werte wiederholen sich periodisch. Das gilt allgemein für Funktionen der Art  $a^r\\ mod\\ N = 1$. Ist die Periode geradzahlig, lässt sich mit dieser ein echter Teiler von $N$ finden. Nämlich $a^{(r/2)} - 1$. In unserem Beispiel also: $2^2-1=3$ und $2^2+1=5$. Somit haben wir die Zahl $15$ faktorisiert, d. h. in Faktoren zerlegt. Ist die Periode im ersten Versuch nicht geradzahlig, wird ein zweiter Versuch durchgeführt. Dies wiederholt man ggf. so lange, bis eine geradzahlige Periode gefunden ist. \n",
    "\n",
    "Die Allgemeingültigkeit des hier beschriebene Verfahrens lässt sich im Rahmen der Zahlentheorie beweisen. Wir wollen es hier mithilfe eines Python-Programms umsetzen, um es damit an vielen Beispielen überprüfen zu können.\n",
    "\n",
    "Hier zunächst den oben beschriebenen Ablauf in einem Flussdiagramm dargestellt, nachdem die zu faktorisierende Zahl eingegeben wurde:\n",
    "\n",
    "\n",
    "<p style=\"text-align:center\"><img src=\"Bilder/ShorAlg.PNG\" width=\"300 px\"></p>\n",
    "\n",
    "\n",
    "Die Ermittlung der Periode (gelber Rahmen) führen wir zunächst klassisch, mithilfe einer Iteration durch. Anschliessend ersetzen wir diese durch einen Quantenalgorithmus.\n"
   ]
  },
  {
   "cell_type": "code",
   "execution_count": 2,
   "id": "052602c8-f470-433e-8b13-5d5e2ab0f882",
   "metadata": {},
   "outputs": [],
   "source": [
    "# Funktion zur Bestimmung des ggT\n",
    "def ggt(c, b):\n",
    "    r=c%b\n",
    "    while r:\n",
    "        c=b\n",
    "        b=r\n",
    "        r=c%b\n",
    "    return (b)"
   ]
  },
  {
   "cell_type": "code",
   "execution_count": 3,
   "id": "f9d2df43-07aa-4386-83a6-245dc11a4c52",
   "metadata": {},
   "outputs": [
    {
     "name": "stdin",
     "output_type": "stream",
     "text": [
      "Geben Sie die zu faktorisierende Zahl ein:  54\n"
     ]
    }
   ],
   "source": [
    "eingabe = input(\"Geben Sie die zu faktorisierende Zahl ein: \")\n",
    "N = int(eingabe)"
   ]
  },
  {
   "cell_type": "code",
   "execution_count": 14,
   "id": "c77427c2-64ba-43d4-8615-826335a1d084",
   "metadata": {},
   "outputs": [
    {
     "name": "stdout",
     "output_type": "stream",
     "text": [
      "Die kleinste gültige Basis ist: a = 5\n"
     ]
    }
   ],
   "source": [
    "for x in range (2,N-1):\n",
    "    if (ggt(x, N)==1):\n",
    "        a=x\n",
    "        break\n",
    "print ('Die kleinste gültige Basis ist: a =', a)"
   ]
  },
  {
   "cell_type": "code",
   "execution_count": 15,
   "id": "8d240e66-52bc-4361-b1b0-7df13d243cae",
   "metadata": {},
   "outputs": [
    {
     "name": "stdout",
     "output_type": "stream",
     "text": [
      "Die Periode ist: r = 18 denn  5 ^ 18 mod 54 = 1\n"
     ]
    }
   ],
   "source": [
    "for x in range (2, N):\n",
    "    if(pow(a, x) % N==1) and (x%2==0):\n",
    "        r=x\n",
    "        print('Die Periode ist: r =', r, 'denn ', a,'^',r, \"mod\", N, \"=\", pow(a, r) % N)\n",
    "        break"
   ]
  },
  {
   "cell_type": "code",
   "execution_count": 16,
   "id": "90375b6d-aa8a-45ab-82aa-b3dc19de556a",
   "metadata": {},
   "outputs": [],
   "source": [
    "teiler=int(ggt(pow(a,r/2)+1,N))"
   ]
  },
  {
   "cell_type": "code",
   "execution_count": 17,
   "id": "a1dcd448-bb42-40ae-8d7d-2b599aeda599",
   "metadata": {},
   "outputs": [
    {
     "name": "stdout",
     "output_type": "stream",
     "text": [
      "Ein Teiler von 54 ist 54\n"
     ]
    }
   ],
   "source": [
    "print('Ein Teiler von', N, 'ist', teiler)"
   ]
  },
  {
   "cell_type": "code",
   "execution_count": 18,
   "id": "4665c716-68c2-4167-a023-29b6c3521902",
   "metadata": {},
   "outputs": [
    {
     "name": "stdout",
     "output_type": "stream",
     "text": [
      "Ein weiterer Teiler ist 1\n"
     ]
    }
   ],
   "source": [
    "print ('Ein weiterer Teiler ist', int(N/teiler))"
   ]
  },
  {
   "cell_type": "markdown",
   "id": "ce7dbce6-6406-40de-99a5-93b4da6ac510",
   "metadata": {},
   "source": [
    "Wurde im ersten Schritt die Zahl $a$ ungünstig gewählt, lässt sich daraus kein Teiler von $N$ ermitteln. Dann muss eine neue Zufallszahl gewählt und mit dieser neu begonnen werden. Die Wahrscheinlichkeit, im ersten Anlauf einen echten Teiler zu finden ist ca. $1/2$. Das ist eine Folge der Zahlentheorie. Mit diesem klasischen Vorgehen ist der Erfolg also nicht auf Anhib garantiert und die Rechenzeit u. U. sogar grösser als mit dem einfachen iterativen verfahren. Das ändert sich mit Shors Quantenalgorithmus."
   ]
  },
  {
   "cell_type": "code",
   "execution_count": null,
   "id": "5f53100a-64ab-4d51-b4a2-3fd175828afb",
   "metadata": {},
   "outputs": [],
   "source": []
  },
  {
   "cell_type": "markdown",
   "id": "8d723588-21d2-4af8-b2cd-0295a8ca0311",
   "metadata": {},
   "source": [
    "## Die Quanten Fourier Transformation\n",
    "\n",
    "Der **Satz von Fourier** und die **Fourier-Transformation** sind sicher vielen von Ihnen nicht unbekannt. Die folgende Abbildung zeigt, was damit gemeint ist:\n",
    "\n",
    "<p style=\"text-align:center\"><img src=\"Bilder/Fourier.PNG\" width=\"1200 px\"></p>\n",
    "\n",
    "Das linke Bild zeigt den zeitlichen Verlauf eines Signals einer angezupften Gitarrensaite, das mit einem Mikrofon auf einem Handy aufgenommen wurde. Das entspricht einem Oszilloskopbild. Saiten können aber nur mit ganz bestimmten Frequenzen Schwingen. Die Tonhöhe wird durch die Frequenz der Grundschwingung bestimmt und das Klangbild durch die Zusammensetzung der Obertöne (der Harmonischen). Die Abbildung rechts zeigt die spektrale Zusammensetzung des Signalls von Abb. links. Dargestellt sind die Frequenzen, die zu dem Signal beitragen. Auch dieses Spektrum wurde mit einer Handy App aufgenommen.\n",
    "\n",
    "Das Frequenzspektrum (b) wurde dabei mithilfe der sog. Fourier-Transformation aus dem Zeitsignal (a) berechnet. Nähere Informationen finden Sie z. B. in diesem [Artikel](https://de.wikipedia.org/wiki/Fourier-Transformation).\n",
    "\n",
    "In der Praxis hat man es mit digitalisierten Daten zu tun. Die Zeitfunktion wird zu einer Zahlenreihe und das Frequenzspektrum ebenfalls. Die analoge Transformation zwischen diesen Zahlenreihen nennt man **diskrete Fourier-Transformation**. Sie spielt eine zentrale Rolle bei unseren heutigen Ton- und Bildkompressionsverfahren. Im Frequenzbereich lassen sich ganz gezielt Informationen entfernen, die wir mit unseren Ohren oder Augen kaum wahrnehmen können. Siehe dazu den folgenden [Artikel](https://de.wikipedia.org/wiki/Diskrete_Fourier-Transformation).\n",
    "\n",
    "Aber auch bei vielen Berechnungen hilft die Fouriertransformation schneller ans Ziel zu kommen. Ein Beispiel dazu ist die Multiplikation von Polynomen. Man kann den Rechenaufwand verkleinern, wenn man die Polynome nicht in der Koeffizientendarstellung multipliziert, sondern zuerst eine diskrete Fourier-Transformation macht, die Multiplikation punktweise durchführt und wieder zurück transformiert. Siehe dazu z. B.  *Quantum Computing verstehen* von Matthias Homeister, bei Springer Vieweg.\n",
    "\n",
    "Die Fourier-Transformation macht also Frequenzen bzw. **Perioden sichtbar**. Deshalb wird sie auch beim Problem der Faktorisierung von grossen Zahlen, insbesondere in der Quantenversion von Shor, eingesetzt. Allerdings wird hier nicht zwischen Zahlenreihen transformiert, sondern zwischen Quantenzuständen bzw. Qubit-Zuständen. Die Transformation heisst dann entsprechend **Quanten-Fourier-Transformation (QFT)**. Siehe dazu auch den folgenden [Artikel](https://de.wikipedia.org/wiki/Quanten-Fouriertransformation).\n",
    "\n",
    "In diesem Notebook wollen wir die **QFT** an einfachen Beispielen mit Qiskit umsetzen. Gehen wir von einem Register $R$ mit $n$ Qubits aus, braucht es $N=2^n$ Basisvektoren, um alle Registerzustände beschreiben zu können.\n",
    "\n",
    "Schreiben wir die Standard-Basis in Binärform zu: $ |0\\ldots 0\\rangle, |0\\ldots 01\\rangle, \\ldots , |1\\ldots 10\\rangle, |1\\ldots 11\\rangle$ bzw. in Dezimalform zu $ |0\\rangle, |1\\rangle, |2\\rangle, \\ldots , |N-1\\rangle$,  dann transformieren sich diese Basisvektoren $|j\\rangle$ zu:\n",
    "$$\n",
    "|j\\rangle \\mapsto \\frac{1}{\\sqrt{N}} \\sum_{k=0}^{N-1} \\omega^{jk} |k\\rangle\n",
    "$$\n",
    "mit\n",
    "$$\n",
    "\\omega = \\exp \\frac{2\\pi i}{2^n} = \\exp \\frac{2\\pi i}{N}\n",
    "$$\n",
    "\n",
    "Dabei entspricht $\\omega$ einer Drehung des Einheitspfeils in der Gauss'schen (komplexen) Zahlenebene um den Winkel $\\frac{2\\pi}{N}$ und $\\omega^{jk}$ eine  Drehung um das $jk$-fache dieses Winkels.\n",
    "\n",
    "Betrachten wir einen beliebigen Zustandsvektor\n",
    "\n",
    "$$\n",
    "\\vert v\\rangle=\\sum_{j=0}^{N-1} \\alpha_j\\vert j\\rangle\n",
    "$$\n",
    "\n",
    "lautet die Transformation:\n",
    "\n",
    "$$\n",
    "QFT_N \\vert v\\rangle=QFT_N \\sum_{j=0}^{N-1} \\alpha_j\\vert j\\rangle =\\sum_{j=0}^{N-1} \\alpha_j QFT_N \\vert j\\rangle=\\sum_{j=0}^{N-1} \\alpha_j \\frac{1}{\\sqrt{N}} \\sum_{k=0}^{N-1} \\omega^{jk} |k\\rangle=\\frac{1}{\\sqrt{N}} \\sum_{j=0}^{N-1}\\left(\\sum_{k=0}^{N-1}\\alpha_j\\omega^{jk}  \\right)|k\\rangle\n",
    "$$\n",
    "\n",
    "Das bedeutet: Auf jeden Basisvektor wird die obige Transformation ausgeübt und danach werden diese transformierten Basisvektoren mit den Koeffizienten $\\alpha_j$ von $\\vert v\\rangle$ zum Endergebnis linear kombiniert."
   ]
  },
  {
   "cell_type": "markdown",
   "id": "9fba9d69-9266-4550-bef1-a094b772331d",
   "metadata": {},
   "source": [
    "### Konkrete Beispiele\n",
    "\n",
    "Um die obige, abstrakte Definition besser verstehen zu können betrachten wir im Folgenden jeweils nur die Transformation der **Basisvektoren**. Das genügt, denn die QFT ist **linear**. Weiss man, wie sich die Basisvektoren Transformieren, dann kann man die Transformation eines beliebigen Zustands (Vektor) $|\\psi \\rangle$ als Linearkombination der transformierten Basisvektoren bestimmen. Im Folgenden bedeuten $n$ die Anzahl Qubits und $N=2^n$ die anzahl Basisvektoren, die zur Beschreibung der Registerzustände benötigt werden.\n",
    "\n",
    "#### $n=1$\n",
    "Hier ist $N=2$ und $|j\\rangle$ nimmt die Werte $|0 \\rangle$ und $|1 \\rangle$ an. d. h. $x$ läuft von $0$ bis $1$. Ebenso läuft $k$ von $0$ bis $1$. Damit haben wir\n",
    "\n",
    "$$ |0 \\rangle\\mapsto  \\frac{1}{\\sqrt{N}} \\sum_{k=0}^{1} \\omega^{jk} |k \\rangle=\\frac{1}{\\sqrt{2}}\\left( \\omega^0|0\\rangle+\\omega^0 |1\\rangle\\right)=\\frac{1}{\\sqrt{2}}\\left(e^0 |0\\rangle+e^0 |1\\rangle\\right)=\\frac{1}{\\sqrt{2}}\\left(|0\\rangle+|1\\rangle\\right)= H |0\\rangle$$\n",
    "\n",
    "\n",
    "$$ |1 \\rangle\\mapsto  \\frac{1}{\\sqrt{2^n}} \\sum_{k=0}^{1} \\omega^{jk} |k \\rangle=\\frac{1}{\\sqrt{2}}\\left( \\omega^0|0\\rangle+\\omega^1 |1\\rangle\\right)=\\frac{1}{\\sqrt{2}}\\left(e^0|0\\rangle+e^{\\pi i} |1\\rangle\\right)=\\frac{1}{\\sqrt{2}}\\left(|0\\rangle-|1\\rangle\\right)=H|1\\rangle$$\n",
    "\n",
    "Die $QFT_2$ entspricht somit einfach der **Hadarmard-Transformation**: $QFT_2=H$. \n",
    "\n",
    "\n",
    "#### $n=2$\n",
    "Das entspricht einem Zwei-Qubit-System mit $N=2^n=4$ Basisvektoren (mit folgender Numerierung: $|00 \\rangle\\mapsto x=0$, $|01 \\rangle\\mapsto x=1 $, $|10 \\rangle\\mapsto x=2$ und $|11 \\rangle\\mapsto x=3$) und $\\omega =e^{\\frac{\\pi}{2}i}$.\n",
    "\n",
    "\n",
    "$$\n",
    "        |00\\rangle\\mapsto  \\frac{1}{\\sqrt{N}} \\sum_{k=0}^{3} \\omega^{0k} |k \\rangle =\\frac{1}{2}\\left(\\omega^0 |00\\rangle+\\omega^0 |01\\rangle+\\omega^0 |10\\rangle+\\omega^0 |11\\rangle\\right) =\\frac{1}{2}\\left(|00\\rangle + |01\\rangle + |10\\rangle + |11\\rangle\\right) =\\frac{1}{\\sqrt{2}}\\left(|0\\rangle+|1\\rangle\\right)\\frac{1}{\\sqrt{2}}\\left(|0\\rangle+|1\\rangle\\right) = H |0\\rangle H |0\\rangle\n",
    "$$\n",
    "$$\n",
    "        |01\\rangle\\mapsto  \\frac{1}{\\sqrt{N}} \\sum_{k=0}^{3} \\omega^{1k} |k \\rangle =\\frac{1}{2}\\left(\\omega^0 |00\\rangle+\\omega^1 |01\\rangle+\\omega^2 |10\\rangle+\\omega^3 |11\\rangle\\right) =\\frac{1}{2}\\left(|00\\rangle +i |01\\rangle - |10\\rangle -i |11\\rangle\\right) =\\frac{1}{\\sqrt{2}}\\left(|0\\rangle-|1\\rangle\\right)\\frac{1}{\\sqrt{2}}\\left(|0\\rangle+i|1\\rangle\\right) = H |1\\rangle P\\left(\\frac{\\pi}{4}\\right) H |0\\rangle\n",
    "$$\n",
    "$$\n",
    "        |10\\rangle\\mapsto  \\frac{1}{\\sqrt{N}} \\sum_{k=0}^{3} \\omega^{2k} |k \\rangle =\\frac{1}{2}\\left(\\omega^0 |00\\rangle+\\omega^2 |01\\rangle+\\omega^4 |10\\rangle+\\omega^6 |11\\rangle\\right) =\\frac{1}{2}\\left(|00\\rangle - |01\\rangle + |10\\rangle - |11\\rangle\\right) =\\frac{1}{\\sqrt{2}}\\left(|0\\rangle+|1\\rangle\\right)\\frac{1}{\\sqrt{2}}\\left(|0\\rangle-|1\\rangle\\right) = H |0\\rangle H |1\\rangle\n",
    "$$\n",
    "$$\n",
    "        |11\\rangle\\mapsto  \\frac{1}{\\sqrt{N}} \\sum_{k=0}^{3} \\omega^{3k} |k \\rangle =\\frac{1}{2}\\left(\\omega^0 |00\\rangle+\\omega^3 |01\\rangle+\\omega^6 |10\\rangle+\\omega^9 |11\\rangle\\right) =\\frac{1}{2}\\left(|00\\rangle - i|01\\rangle - |10\\rangle +i |11\\rangle\\right) =\\frac{1}{\\sqrt{2}}\\left(|0\\rangle-|1\\rangle\\right)\\frac{1}{\\sqrt{2}}\\left(|0\\rangle-i|1\\rangle\\right) = H |1\\rangle P\\left(\\frac{\\pi}{4}\\right) H |1\\rangle\n",
    "$$\n",
    "\n",
    "Aus dieser Rechnung entnehmen wir einerseits die Zustandsvektoren der transformierten Basisvektoren. Andererseits lassen sich diese Zustände **faktorisieren** (d. h. als unabhängige Qubits darstellen). Aus dieser Faktorisierung erkennt man die Operationen, die an den beiden Qubits $|0\\rangle$ und $|1\\rangle$ jeweils ausgeführt wurden. Die $QFT_2$ lässt sich also durch eine Kombination von $H$- und $P$-Gates realisieren. Versuchen wir das mit Qiskit in die Praxis umzusetzen. Anschliessend vergleichen wir die Zustandsvektoren, die sich aus dem Schaltkreis ergeben, mit den oben berechneten Werten.\n",
    "\n",
    "#### Schaltkreis:"
   ]
  },
  {
   "cell_type": "code",
   "execution_count": 19,
   "id": "f87874ab-b664-495c-8df8-99867bb879a6",
   "metadata": {},
   "outputs": [
    {
     "name": "stdout",
     "output_type": "stream",
     "text": [
      "Statevector([ 5.000000e-01+0.j ,  3.061617e-17+0.5j, -5.000000e-01+0.j ,\n",
      "             -3.061617e-17-0.5j],\n",
      "            dims=(2, 2))\n"
     ]
    },
    {
     "data": {
      "image/png": "[encoded data removed]",
      "text/plain": [
       "<Figure size 788.961x200.667 with 1 Axes>"
      ]
     },
     "execution_count": 19,
     "metadata": {},
     "output_type": "execute_result"
    }
   ],
   "source": [
    "from qiskit import QuantumCircuit\n",
    "from qiskit.quantum_info import Statevector\n",
    "from math import sqrt, pi\n",
    "n= 2\n",
    "theta = (pi/2)\n",
    "\n",
    "circ = QuantumCircuit(n)\n",
    "circ.x(0) #Qubit q_0 wird auf |1> gesetzt\n",
    "#circ.x(1) #Qubit q_1 wird auf |1> gesetzt\n",
    "circ.barrier()\n",
    "circ.h(1) \n",
    "circ.cp(theta,0,1) #die Phase von q_1 wird in Abhängigkeit von q_0 um pi/2 gedreht\n",
    "circ.h(0)\n",
    "circ.swap(0,1)\n",
    "circ.barrier()\n",
    "print(Statevector(circ))\n",
    "circ.draw('mpl')"
   ]
  },
  {
   "cell_type": "markdown",
   "id": "9960809b-1c23-44ac-8f3e-49a80bc6c212",
   "metadata": {},
   "source": [
    "Testen Sie alle vier Ausgangszustände ($|00 \\rangle$, $|01 \\rangle$, $|10 \\rangle$ und $|11 \\rangle$) durch, indem Sie jeweils `circ.x(0)` oder `circ.x(1)` mit `#` entsprechend auskommentieren und vergleichen Sie die State-Vector Ausgabe mit den von Hand berechneten Zustandsvektoren. Weil in Qiskit die Bitreihenfolge gegenüber der oben von Hand berechneten, umgedreht ist, ist abschliessend das Swap-Gate erforderlich, um die Ergebnisse vergleichen zu können. Damit stimmen die Ergebnisse perfekt überein.\n",
    "\n"
   ]
  },
  {
   "cell_type": "markdown",
   "id": "29a34cf4-95c1-4a3a-8549-41a8b5432cc2",
   "metadata": {},
   "source": [
    "#### Matrix-Darstellung\n",
    "\n",
    "Die $QFT_4$ lässt sich auch als $4\\times 4$-Matrix schreiben:\n",
    "\n",
    "$$QFT_4=\\frac{1}{\\sqrt{4}}\\begin{bmatrix}1&1&1&1\\\\1&\\omega&\\omega^2 &\\omega^3 \\\\1&\\omega^2&\\omega^4&\\omega^6\\\\1&\\omega^3&\\omega^6&\\omega^9\\end{bmatrix}\\qquad \\text{mit}\\qquad \\omega=exp{\\left(2\\pi i/4\\right)}=exp{\\left(\\frac{\\pi}{2} i\\right)} \\qquad \\text{ergibt sich konkret:}\\qquad QFT_4=\\frac{1}{2}\\begin{bmatrix}1&1&1&1\\\\1&i&-1 &-i \\\\1&-1&1&-1\\\\1&-i&-1&i\\end{bmatrix}$$ \n",
    "\n",
    "In den Spalten dieser Matrix stehen die Bilder der Basisvektoren: $|00\\rangle$, $|01\\rangle$, $|10\\rangle$ und $|11\\rangle$.\n",
    "\n",
    "Aus dieser Darstellung wird auch ersichtlich, wie die $QFT_4$ (mit $n=2$ Qubits) auf die $QFT_8$ ($n=3$ Qubits) und darüber hinaus zu erweitern ist."
   ]
  },
  {
   "cell_type": "markdown",
   "id": "3e8ce70b-2836-496c-aefd-13c8cf5a4370",
   "metadata": {},
   "source": [
    "#### Erweiterung auf $n=3$\n",
    "\n",
    "Betrachten wir die Erweiterung auf ein Register mit $n=3$ Qubits. Dieses hat die $N=2^3=8$ Basisvektoren: $|000\\rangle$, $|001\\rangle$, $|010\\rangle$, $|011\\rangle$, $|100\\rangle$, $|101\\rangle$, $|110\\rangle$ und $|111\\rangle$, mit denen sich sämtliche Registerzustände beschreiben lassen. Die $QFT_8$-Matrix ist deshalb von der Grösse $8\\times 8$. Wir erweitern dazu einfach die $QFT_4$-Matrix in analoger Fortsetzung. Mit $\\omega=exp{\\left(2\\pi i/8\\right)}=exp{\\left(\\frac{\\pi}{4} i\\right)}$:\n",
    "\n",
    "$$QFT_8=\\frac{1}{\\sqrt{8}}\\begin{bmatrix}1&1&1&1&1&1&1&1\\\\1&\\omega&\\omega^2 &\\omega^3 & \\omega^4&\\omega^5&\\omega^6 &\\omega^7 \\\\1&\\omega^2&\\omega^4&\\omega^6&\\omega^8&\\omega^{10}&\\omega^{12} &\\omega^{14} \\\\1&\\omega^3&\\omega^6&\\omega^9&\\omega^{12}&\\omega^{15}&\\omega^{18} &\\omega^{21} \\\\1&\\omega^4&\\omega^8&\\omega^{12}&\\omega^{16}&\\omega^{20}&\\omega^{24} &\\omega^{28}\\\\1&\\omega^5&\\omega^{10}&\\omega^{15}&\\omega^{20}&\\omega^{25}&\\omega^{30} &\\omega^{35}\\\\1&\\omega^6&\\omega^{12}&\\omega^{18}&\\omega^{24}&\\omega^{30}&\\omega^{36} &\\omega^{42}\\\\1&\\omega^7&\\omega^{14}&\\omega^{21}&\\omega^{28}&\\omega^{35}&\\omega^{42} &\\omega^{49}\\end{bmatrix}\\quad \\stackrel{\\varphi}{\\longmapsto} \\quad \\frac{1}{2\\sqrt{2}}\\begin{bmatrix}0&0&0&0&0&0&0&0\\\\0&1&2&3&4&5&6&7\\\\0&2&4&6&8&10&12&14\\\\0&3&6&9&12&15&18&21\\\\0&4&8&12&16&20&24&28\\\\0&5&10&15&20&25&30&35\\\\0&6&12&18&24&30&36&42\\\\0&7&14&21&28&35&42&49\\end{bmatrix}\\quad \\stackrel{\\mod 8}{\\longmapsto} \\quad\\frac{1}{2\\sqrt{2}}\\begin{bmatrix}0&0&0&0&0&0&0&0\\\\0&1&2&3&4&5&6&7\\\\0&2&4&6&0&2&4&6\\\\0&3&6&1&4&7&2&5\\\\0&4&0&4&0&4&0&4\\\\0&5&2&7&4&1&6&3\\\\0&6&4&2&0&6&4&2\\\\0&7&6&5&4&3&2&1\\end{bmatrix}$$\n",
    "\n",
    "Hier werden die Koeffizienten z. T. komplex (d. h. mit Real- und Imaginäranteil), was das Aufschreiben umständlich und unübersichtlich macht. Deshalb sind in der mittleren Matrix nur die Exponenten von $\\omega$ eingetragen. Benutzen wir die Tatsache, dass sich die Werte nach $8$ Schritten wiederholen, erreichen wir eine weitere Vereinfachung, indem wir in der Matrix rechts die Werte $\\mod8$ eintragen. Auch hier kann man die Zustandsvektoren der Abbilder von $|000\\rangle$, $|001\\rangle$, $|010\\rangle$, $|011\\rangle$, $|100\\rangle$, $|101\\rangle$, $|110\\rangle$ und $|111\\rangle$ in den Spalten dieser Matrix direkt ablesen (allerdings hier in Abh. von $\\varphi$).\n",
    "\n",
    "Der folgende **Schaltkreis** bewitkt diese Transformation auf einem Dreibit-Quantenregister. Ausgegeben werden der Zustandsvektor (`Statevector`) sowie der Schaltkreis.\n",
    "\n",
    "Testen Sie auch hier alle acht Ausgangszustände ($|000\\rangle$, $|001\\rangle$, $|010\\rangle$, $|011\\rangle$, $|100\\rangle$, $|101\\rangle$, $|110\\rangle$ und $|111\\rangle$) durch, indem Sie jeweils `circ.x(0)`, `circ.x(1)` und /oder `circ.x(1)` mit `#` entsprechend auskommentieren, und vergleichen Sie die State-Vector Ausgabe mit den Zeigerstellungen der jeweiligen Zustandsvektoren. Auch hier werden Sie Übereinstimmung der Ergebnisse feststellen.\n"
   ]
  },
  {
   "cell_type": "code",
   "execution_count": 20,
   "id": "dced5258-6e84-4f0b-8286-7e345a86517d",
   "metadata": {},
   "outputs": [
    {
     "name": "stdout",
     "output_type": "stream",
     "text": [
      "Statevector([ 3.53553391e-01+0.j        ,  2.16489014e-17+0.35355339j,\n",
      "             -3.53553391e-01+0.j        , -2.16489014e-17-0.35355339j,\n",
      "              3.53553391e-01+0.j        ,  2.16489014e-17+0.35355339j,\n",
      "             -3.53553391e-01+0.j        , -2.16489014e-17-0.35355339j],\n",
      "            dims=(2, 2, 2))\n"
     ]
    },
    {
     "data": {
      "image/png": "[encoded data removed]",
      "text/plain": [
       "<Figure size 1207.22x284.278 with 1 Axes>"
      ]
     },
     "execution_count": 20,
     "metadata": {},
     "output_type": "execute_result"
    }
   ],
   "source": [
    "from qiskit import QuantumCircuit\n",
    "from qiskit.quantum_info import Statevector\n",
    "from math import sqrt, pi\n",
    "\n",
    "n= 3\n",
    "theta = (2*pi)/(2**n)\n",
    "\n",
    "circ = QuantumCircuit(n)\n",
    "#circ.x(0)\n",
    "circ.x(1)\n",
    "#circ.x(2)\n",
    "circ.barrier()\n",
    "circ.h(2) \n",
    "circ.cp(2*theta,1,2)\n",
    "circ.cp(theta,0,2)\n",
    "circ.h(1) \n",
    "circ.cp(2*theta,0,1)\n",
    "circ.h(0) \n",
    "circ.swap(0,2)\n",
    "circ.barrier()\n",
    "print(Statevector(circ))\n",
    "circ.draw('mpl')"
   ]
  },
  {
   "cell_type": "code",
   "execution_count": null,
   "id": "5c9f2b58-929d-44b2-8c65-1bb06227df67",
   "metadata": {},
   "outputs": [],
   "source": []
  },
  {
   "cell_type": "markdown",
   "id": "503de06a-3cab-472e-a861-c1cf478188b4",
   "metadata": {},
   "source": [
    "#### Verallgemeinerung auf $n$ Qubits\n",
    "\n",
    "$$QFT_N=\\frac{1}{\\sqrt{N}}\\begin{bmatrix}1&1&1&1&\\cdots &1\\\\1&\\omega&\\omega^2 &\\omega^3 &\\cdots &\\omega^{(N-1)}\\\\1&\\omega^2&\\omega^4&\\omega^6&\\cdots &\\omega^{2(N-1)} \\\\1&\\omega^3&\\omega^6&\\omega^9&\\cdots &\\omega^{3(N-1)} \\\\ \\vdots & \\vdots & \\vdots & \\vdots & \\ddots &\\vdots \\\\1&\\omega^{(N-1)}&\\omega^{2(N-1)}&\\omega^{3(N-1)}&\\cdots &\\omega^{(N-1)(N-1)}\\end{bmatrix}\\qquad \\text{mit}\\qquad \\omega=exp{\\left(2\\pi i/N\\right)}\\quad \\text{ und Phasendrehwinkel}\\quad \\varphi_N=\\frac{2\\pi}{N}$$\n",
    "\n",
    "\n",
    "Wie Sie sehen, wird es zunehmend mühsamer, die $QFT$s mit grösser werdendem $N$ zu berechnen. Das wollen wir uns hier auch ersparen. Qiskit stellt nämlich eine  Funktion für die $QFT$ zur Verfügung. Die Ausführungen oben dienten nur dazu, das verfahren etwas besser zu verstehen. Schauen wir uns also die Qiskit-Funktion und ihre Verwendung an."
   ]
  },
  {
   "cell_type": "markdown",
   "id": "5c0003c6-c394-46b5-abc7-2043002954b9",
   "metadata": {},
   "source": [
    "#### Die $QFT$-Funktion von Qiskit\n",
    "\n"
   ]
  },
  {
   "cell_type": "code",
   "execution_count": 21,
   "id": "fc51b2ea-6cd4-428b-aef5-e1dd437f55bb",
   "metadata": {},
   "outputs": [
    {
     "name": "stdout",
     "output_type": "stream",
     "text": [
      "Statevector([ 3.53553391e-01+0.j        ,  2.16489014e-17+0.35355339j,\n",
      "             -3.53553391e-01+0.j        , -2.16489014e-17-0.35355339j,\n",
      "              3.53553391e-01+0.j        ,  2.16489014e-17+0.35355339j,\n",
      "             -3.53553391e-01+0.j        , -2.16489014e-17-0.35355339j],\n",
      "            dims=(2, 2, 2))\n"
     ]
    },
    {
     "data": {
      "image/png": "[encoded data removed]",
      "text/plain": [
       "<Figure size 454.719x367.889 with 1 Axes>"
      ]
     },
     "execution_count": 21,
     "metadata": {},
     "output_type": "execute_result"
    }
   ],
   "source": [
    "from qiskit import QuantumCircuit, execute, BasicAer\n",
    "from qiskit.quantum_info import Statevector\n",
    "from qiskit.circuit.library import QFT\n",
    "from qiskit.visualization import plot_histogram\n",
    "backend = BasicAer.get_backend('qasm_simulator')\n",
    "\n",
    "n=3\n",
    "circ = QuantumCircuit(n,n)\n",
    "#circ.x(0) \n",
    "circ.x(1)\n",
    "#circ.x(2)\n",
    "circ.barrier()\n",
    "circ.append(QFT(n),range(n))\n",
    "circ.barrier()\n",
    "print(Statevector(circ))\n",
    "circ.draw('mpl')"
   ]
  },
  {
   "cell_type": "code",
   "execution_count": null,
   "id": "974a6843-be94-442e-806e-d39ca3ea2c9d",
   "metadata": {},
   "outputs": [],
   "source": []
  },
  {
   "cell_type": "code",
   "execution_count": 22,
   "id": "0ff4d7a2-7190-463e-bf87-fe6eeefbae07",
   "metadata": {},
   "outputs": [
    {
     "data": {
      "image/png": "[encoded data removed]",
      "text/plain": [
       "<Figure size 705.552x367.889 with 1 Axes>"
      ]
     },
     "execution_count": 22,
     "metadata": {},
     "output_type": "execute_result"
    }
   ],
   "source": [
    "circ.measure([0,1,2], [0,1,2])\n",
    "circ.draw('mpl')"
   ]
  },
  {
   "cell_type": "code",
   "execution_count": 23,
   "id": "fcad49de-5a61-43a6-87fc-5e69c9aafcfe",
   "metadata": {},
   "outputs": [
    {
     "data": {
      "image/png": "[encoded data removed]",
      "text/plain": [
       "<Figure size 700x500 with 1 Axes>"
      ]
     },
     "execution_count": 23,
     "metadata": {},
     "output_type": "execute_result"
    }
   ],
   "source": [
    "job=execute(circ, backend)\n",
    "result = job.result()\n",
    "counts = result.get_counts()\n",
    "plot_histogram(counts)"
   ]
  },
  {
   "cell_type": "code",
   "execution_count": null,
   "id": "d258a058-82f6-4511-ac4f-1b8db26aac0f",
   "metadata": {},
   "outputs": [],
   "source": []
  },
  {
   "cell_type": "markdown",
   "id": "465a4635-9ae8-4392-9be9-a3c5f10e2026",
   "metadata": {},
   "source": [
    "<img src=\"Bilder/QFT2.gif\" width=\"800 px\">"
   ]
  },
  {
   "cell_type": "markdown",
   "id": "fa2c4d96-0e37-41b5-8b59-2540c13bfe85",
   "metadata": {},
   "source": [
    "<img src=\"Bilder/QFT1.gif\" width=\"800 px\">"
   ]
  },
  {
   "cell_type": "code",
   "execution_count": null,
   "id": "13c43090-e12e-4d0a-852c-942631aa8b9a",
   "metadata": {},
   "outputs": [],
   "source": []
  },
  {
   "cell_type": "markdown",
   "id": "bf2a3885-06a3-4d7b-8645-c048f03b536c",
   "metadata": {
    "editable": true,
    "slideshow": {
     "slide_type": ""
    },
    "tags": []
   },
   "source": [
    "## Periodensuche mit dem Shor-Algorithmus\n",
    "\n",
    "Erinnern wir uns, dass zum Faktorisieren von grossen Zahlen die Perioden der Funktion $ f(x) = a^x \\bmod{N}$ hilfreich sind. Wie können die Perioden mithilfe eines Quantencomputers gefunden werden. Dazu stellte Peter Shor () einen Algorithmus vor, bei dem insbesondere die oben beschriebene $QFT$ Verwendung findet?\n",
    "\n",
    "Die Funktion $F(x)$ bildet Zahlen aus der Grundmenge $x \\in \\mathbb{Z}$ in die Menge der Funktionswerte ab. Das ist ebenfalls eine Zahlenmenge, die hier aber genau definiert ist: $f(x)\\in \\{0, 1, \\ldots, N-1\\}$. Diese Zahlenmengen müssen nun durch Qubits ersetzt werden. Wir benötigen dazu zwei Register: Ein Register $\\vert a\\rangle$ für die Elemente der Grundmenge und ein Register $\\vert b\\rangle$ für die Funktiionswerte. Die Funktion selbst muss durch entsprechend gewählte Gates $U_f) (Quantenorakel) realisiert werden. Also\n",
    "\n",
    "Statt klassisch: $f: \\mathbb{Z} \\mapsto \\{0, 1, \\ldots, N-1\\}$, jetzt quantenmechanisch: $U_f:\\vert a \\rangle\\vert b\\rangle \\mapsto \\vert a \\rangle\\vert b\\oplus f(a)\\rangle$.\n",
    "\n",
    "- Die Grundmenge an Qubitzuständen erreicht man am einfachsten, indem man von $n$ Qubits im Zustand $\\vert 0\\rangle$ ausgeht und auf jedes Qubit die Hadamard-Transformation ausübt. Dadurch erhält man $N=n^2$ Basisiszustände $\\vert 0\\rangle \\ldots \\vert N-1\\rangle$ für das Register $\\vert a\\rangle$. Nach dieser Initialisierung lautet der Registerzustand:\n",
    "\n",
    "$$\n",
    "\\phi_1=\\frac{1}{\\sqrt{N}}\\sum_{k=0}^{N-1}\\vert k\\rangle\\vert b\\rangle\n",
    "$$\n",
    "\n",
    "\n",
    "- Die Funktionswerte *schreibt* man in das Register $\\vert b\\rangle$ indem man $U_f$ auf $\\vert b\\rangle$ anwendet: $U_f:\\vert a \\rangle\\vert b\\rangle \\mapsto \\vert a \\rangle\\vert b\\oplus f(a)\\rangle$.\n",
    "$$\n",
    "\\phi_2=\\frac{1}{\\sqrt{N}}\\sum_{k=0}^{N-1}\\vert k\\rangle\\vert a^k\\ mod\\ N\\rangle\n",
    "$$\n",
    "  Die Werte von $\\vert a^k\\ mod\\ N\\rangle$ wiederholen sich zyklisch mit der Periode $r$.\n",
    "\n",
    "- Nun stellt sich die Frage, wie $U_f$ bzw. $\\vert a^k\\ mod\\ N\\rangle$ beschaffen sein muss, damit die Funktionswerte von $f(x)$ im Register $\\vert b\\rangle$ codiert werden können. Weil das Problem ja darin besteht, die Periode $r$ der Funktion $f$ zu finden, benutzt man dazu Phasen-Gatter (Phase-Gates) und kodiert die Funktionswerte von $f$ als Phasen der Qubits im Register $\\vert b\\rangle$. Die Phase-Gates $P(\\varphi)$ sind dann von der Form $e^{\\frac{2\\pi i}{N}k}$. Dabei nutzt man das Phänomen des **Phase Kickback** aus, das in *Notebook 1* beschrieben wurde. Dazu müssen die Phase Gates als bedingt ausgeführt werden, also als `.cp( ... )`. Dadurch werden die Phasen auf die Qubits von Register $\\vert a\\rangle$ zurück übertragen und dort gespeichert.\n",
    "- Schliesslich kann die gesuchte Periode mithilfe der $QFT$ aus dem Register extrahiert werden. und daraus dann die gesuchten Faktoren berechnet werden.\n",
    "\n",
    "### Konkretes Beispiel\n",
    "\n",
    "Am besten lässt sich das Verfahren an einem einfachen Beispiel nachvollziehen. Wir betrachten dazu das *Problem*, die Zahl $15$ zu faktorisieren. Das Ergebnis kennen wir: $3\\cdot 5=15$. Wir wollen aber zeigen, wie dieses Resultat mit dem Verfahren von Shor zustande kommt.\n",
    "\n",
    "Dazu *suchen* wir die Periode $r$ der Funktion $f(x)=a^x \\mod 15$ und wählen z. B dazu die Basis $a=7$. Wie man leicht nachvollzienen kann, hat die Funktion $7^x \\mod 15$ die Periode $r=4$, mit den sich wiederholenden Funktionswerten $\\{1,7, 4, 13, \\ldots\\}$. Wir starten mit zwei Registern mit je $n=4$ Qubits. Jedes der beiden Register kann dann $N=16$ Zustände annehmen.\n",
    "\n",
    "Die ersten drei Schritte sind in folgender Tabelle zusammengestellt:\n",
    "\n",
    "<table>\n",
    "  <thead>\n",
    "    <tr>\n",
    "      <th>Initialisierung</th>\n",
    "      <th>Hadamards auf Register 1</th>\n",
    "      <th>Funktionswerte in Register 2 codieren</th>\n",
    "    </tr>\n",
    "  </thead>\n",
    "  <tbody>\n",
    "    <tr>\n",
    "      <td>$\\phi_0=\\vert 000\\rangle\\vert 000\\rangle$</td>\n",
    "      <td>$$\\phi_1=\\frac{1}{\\sqrt{16}}\\sum_{k=0}^{15}\\vert k\\rangle\\vert 0000\\rangle$$</td>\n",
    "      <td>$$\\phi_2=\\frac{1}{\\sqrt{16}}\\sum_{k=0}^{15}\\vert k\\rangle\\vert 7^x\\ mod\\ 15\\rangle$$</td>\n",
    "    </tr>\n",
    "  </tbody>\n",
    "</table>\n",
    "\n",
    "Die Funktionswerte von $7^x\\ mod\\ 15$ wiederholen sich zyklisch gemäss folgender Tabelle:\n",
    "\n",
    "<table>\n",
    "  <tbody>\n",
    "    <tr>\n",
    "      <td>$k\\quad$:</td><td>$0$</td><td>$1$</td>  <td>$2$</td><td>$3$</td><td>$4$</td><td>$5$</td><td>$6$</td><td>$7$</td> <td>$8$</td><td>$9$</td><td>$10$</td> <td>$11$</td><td>$12$</td><td>$13$</td> <td>$14$</td><td>$15$</td>\n",
    "    </tr>\n",
    "    <tr>\n",
    "      <td>$F(k)$:</td><td>$1$</td><td>$7$</td><td>$4$</td><td>$13$</td><td>$1$</td><td>$7$</td><td>$4$</td><td>$13$</td><td>$1$</td><td>$7$</td><td>$4$</td><td>$13$</td><td>$1$</td><td>$7$</td><td>$4$</td><td>$13$</td>\n",
    "    </tr>\n",
    "  </tbody>\n",
    "</table>\n",
    "\n",
    "Schreiben wir den Zustand $\\phi_2$ aus:\n",
    "\n",
    "$$\n",
    "\\phi_2=\\frac{1}{\\sqrt{16}}\\sum_{k=0}^{15}\\vert k\\rangle\\vert 7^x\\ mod\\ 15\\rangle=\\frac{1}{4}\\begin{pmatrix}\n",
    "  \\vert 0 \\rangle\\vert 1\\rangle & + & \\vert 1 \\rangle\\vert 7\\rangle & + &\\vert 2 \\rangle\\vert 4\\rangle & + &\\vert 3 \\rangle\\vert 13\\rangle & + \\\\\n",
    "  \\vert 4 \\rangle\\vert 1\\rangle & + & \\vert 5 \\rangle\\vert 7\\rangle & + &\\vert 6 \\rangle\\vert 4\\rangle & + &\\vert 7 \\rangle\\vert 13\\rangle & + \\\\\n",
    "  \\vert 8 \\rangle\\vert 1\\rangle & + & \\vert 9 \\rangle\\vert 7\\rangle & + &\\vert 10 \\rangle\\vert 4\\rangle & + &\\vert 11 \\rangle\\vert 13\\rangle & + \\\\\n",
    "  \\vert 12 \\rangle\\vert 1\\rangle & + & \\vert 13 \\rangle\\vert 7\\rangle & + &\\vert 14 \\rangle\\vert 4\\rangle & + &\\vert 15 \\rangle\\vert 13\\rangle &\\ &\n",
    "\\end{pmatrix}=\\frac{1}{4}\\left[\\left(\\vert 0 \\rangle+\\vert 4 \\rangle+\\vert 8 \\rangle+\\vert 12 \\rangle \\right)\\textcolor{red}{\\vert 1\\rangle}+\\left(\\vert 1 \\rangle+\\vert 5 \\rangle+\\vert 9 \\rangle+\\vert 13 \\rangle \\right)\\textcolor{red}{\\vert 7\\rangle}+\\left(\\vert 2 \\rangle+\\vert 6 \\rangle+\\vert 10 \\rangle+\\vert 14 \\rangle \\right)\\textcolor{red}{\\vert 4\\rangle}+\\left(\\vert 3 \\rangle+\\vert 7 \\rangle+\\vert 11 \\rangle+\\vert 15 \\rangle \\right)\\textcolor{red}{\\vert 13\\rangle}\\right]\n",
    "$$\n",
    "\n",
    "Messen wir jetzt das Register $2$ erhalten wir einen der vier Messwerte $\\textcolor {red}{1, 7, 4,}$ oder $\\textcolor {red}{13}$. Gleichzeitig kollabiert das Register $1$ in einen der vier zugehörigen Zustände. \n",
    "\n",
    "- $\\phi_{3(1)}=\\frac{1}{2}\\left(\\textcolor{red}{\\vert 0 \\rangle} + \\textcolor{red}{\\vert 4 \\rangle} + \\textcolor{red}{\\vert 8 \\rangle} + \\textcolor{red}{\\vert 12 \\rangle}\\right)$\n",
    "- $\\phi_{3(7)}=\\frac{1}{2}\\left(\\textcolor{red}{\\vert 1 \\rangle} + \\textcolor{red}{\\vert 5 \\rangle} + \\textcolor{red}{\\vert 9 \\rangle} + \\textcolor{red}{\\vert 13 \\rangle}\\right)$\n",
    "- $\\phi_{3(4)}=\\frac{1}{2}\\left(\\textcolor{red}{\\vert 2 \\rangle} + \\textcolor{red}{\\vert 6 \\rangle} + \\textcolor{red}{\\vert 10 \\rangle} + \\textcolor{red}{\\vert 14 \\rangle}\\right)$\n",
    "- $\\phi_{3(13)}=\\frac{1}{2}\\left(\\textcolor{red}{\\vert 3 \\rangle} + \\textcolor{red}{\\vert 7 \\rangle} + \\textcolor{red}{\\vert 11 \\rangle} + \\textcolor{red}{\\vert 15 \\rangle}\\right)$\n",
    "\n",
    "\n",
    "Das lässt sich ertwas verallgemeinern: $$\\phi_3(n)=\\frac{1}{2}\\left(\\textcolor{red}{\\vert n \\rangle} + \\textcolor{red}{\\vert n+4 \\rangle} + \\textcolor{red}{\\vert n+8 \\rangle} + \\textcolor{red}{\\vert n+12 \\rangle}\\right)\\quad \\text{für}\\quad n=0, 1, 2, 3$$\n",
    "\n",
    "Gemäss der Definition der $QFT$ von oben:\n",
    "$$\n",
    "QFT_N \\vert \\phi_3\\rangle=\\frac{1}{\\sqrt{N}} \\sum_{k=0}^{N-1}\\left(\\sum_{j=0}^{N-1}\\alpha_j\\omega^{jk}  \\right)|k\\rangle\n",
    "$$\n",
    "über alle Basisvektoren $\\vert k\\rangle_N$ können wir die Quanten Fouriertransformation ($QFT$) dieser Zustände wiefolgt berechnen:\n",
    "\n",
    "$$\\phi_4(n)=\\frac{1}{2}\\frac{1}{\\sqrt{16}}\\sum_{k=0}^{15}\\left[\\omega^{\\textcolor{red}{n} k} + \\omega^{\\textcolor{red}{(n+4)} k} + \\omega^{\\textcolor{red}{(n+8)} k} + \\omega^{\\textcolor{red}{(n+12)} k}\\right]\\vert k \\rangle \\quad \\text{mit}\\quad \\omega=\\exp\\left(\\frac{\\pi}{8}i\\right)$$\n",
    "\n",
    "klammern wir ein $\\omega$ aus:\n",
    "\n",
    "$$\\phi_4(n)=\\frac{1}{2}\\frac{1}{\\sqrt{16}}\\sum_{k=0}^{15}\\omega^{nk}\\left[1 + \\omega^{\\textcolor{red}{4} k} + \\omega^{\\textcolor{red}{8} k} + \\omega^{\\textcolor{red}{12} k}\\right]\\vert k \\rangle \\quad \\text{mit}\\quad \\omega^4=\\exp\\left(\\frac{\\pi}{2}i\\right)\\quad \\text{vereinfacht sich das zu:}$$\n",
    "\n",
    "$$\n",
    "\\phi_4(n)=\\frac{1}{2}\\frac{1}{\\sqrt{16}}\\sum_{k=0}^{15}\\omega^{nk}\\left[1 + \\exp\\left(\\frac{\\pi}{2}i\\right)^{\\textcolor{red}{1} k} + \\exp\\left(\\frac{\\pi}{2}i\\right)^{\\textcolor{red}{2} k} + \\exp\\left(\\frac{\\pi}{2}i\\right)^{\\textcolor{red}{3} k}\\right]\\vert k \\rangle\n",
    "$$\n",
    "\n",
    "Nun können Sie sich relativ leicht selbst davon überzeugen, dass für die eckige Klammer gilt: $\\left[\\ldots\\right]=1+1+1+1=4$ für alle $k$, die ein Vielfaches von $4$ sind und für alle anderen Fälle $\\left[\\ldots\\right]=0$ ist. Damit erhalten wir die Resultate der vier Verbleibenden Zustände:\n",
    "\n",
    "- $\\phi_{4(n=0)}= \\frac{1}{2}\\left(\\vert 0 \\rangle + \\vert 4 \\rangle + \\vert 8 \\rangle + \\vert 12 \\rangle\\right)$\n",
    "- $\\phi_{4(n=1)}= \\frac{1}{2}\\left(\\vert 0 \\rangle + i\\vert 4 \\rangle - \\vert 8 \\rangle + i\\vert 12 \\rangle\\right)$\n",
    "- $\\phi_{4(n=2)}= \\frac{1}{2}\\left(\\vert 0 \\rangle - \\vert 4 \\rangle + \\vert 8 \\rangle - \\vert 12 \\rangle\\right)$\n",
    "- $\\phi_{4(n=3)}= \\frac{1}{2}\\left(\\vert 0 \\rangle -i \\vert 4 \\rangle - \\vert 8 \\rangle + i\\vert 12 \\rangle\\right)$\n",
    "\n",
    "\n",
    "Die abschliessende Messung gibt in jedem Fall einen Wert aus $\\{0, 4, 8, 12\\}$ aus. Daraus wird die Periode $r=4$ sichtbar und der quantenmechanische Teil der Faktorisierung ist damit abgeschlossen.\n",
    "\n",
    "Wie Sie sehen, ist die Rechenarbeit von Hand beachtlich bis mühsam. Wir wollen deshalb das Problem mit einem Quantenschaltkreis und mithilfe von Qiskit berechnen.\n"
   ]
  },
  {
   "cell_type": "markdown",
   "id": "c2d229e8-c6d4-4aea-81f3-40eb84574a9a",
   "metadata": {},
   "source": [
    "### Umsetzung des Algorithmus mit Qiskit\n",
    "\n",
    "Wir gehen dazu die Schritte von oben der Reihe nach durch. Wir erstellen dazu einen Schaltkreis mit 8 Qubits und 4 klassischen Bits.\n",
    "\n"
   ]
  },
  {
   "cell_type": "code",
   "execution_count": 53,
   "id": "6ce94548-0c57-41f2-9bf4-3104b6745b82",
   "metadata": {},
   "outputs": [
    {
     "name": "stdout",
     "output_type": "stream",
     "text": [
      "Statevector([0.25+0.j, 0.25+0.j, 0.25+0.j, 0.25+0.j, 0.25+0.j, 0.25+0.j,\n",
      "             0.25+0.j, 0.25+0.j, 0.25+0.j, 0.25+0.j, 0.25+0.j, 0.25+0.j,\n",
      "             0.25+0.j, 0.25+0.j, 0.25+0.j, 0.25+0.j],\n",
      "            dims=(2, 2, 2, 2))\n"
     ]
    },
    {
     "data": {
      "image/png": "[encoded data removed]",
      "text/plain": [
       "<Figure size 371.107x451.5 with 1 Axes>"
      ]
     },
     "execution_count": 53,
     "metadata": {},
     "output_type": "execute_result"
    }
   ],
   "source": [
    "from qiskit import QuantumCircuit, execute, BasicAer\n",
    "from qiskit.quantum_info import Statevector\n",
    "from qiskit.circuit.library import QFT\n",
    "from qiskit.visualization import plot_histogram\n",
    "backend = BasicAer.get_backend('qasm_simulator')\n",
    "\n",
    "n=4\n",
    "circ = QuantumCircuit(n,n)\n",
    "circ.h([0, 1, 2,3]) \n",
    "circ.barrier()\n",
    "#circ.append(QFT(n),range(n))\n",
    "circ.barrier()\n",
    "print(Statevector(circ))\n",
    "circ.draw('mpl')"
   ]
  },
  {
   "cell_type": "markdown",
   "id": "8cf2e2d1-a545-409b-a9b6-dd8153419f22",
   "metadata": {},
   "source": [
    "Die folgende Funktion setzt $b^x\\ mod\\ 15$ für Register $2$ um:"
   ]
  },
  {
   "cell_type": "code",
   "execution_count": 54,
   "id": "7141a147-fe7f-4c6c-b26f-f05cec320219",
   "metadata": {},
   "outputs": [],
   "source": [
    "def c_bmod15(b, power):\n",
    "    if b not in [2,4,7,8,11,13]:\n",
    "        raise ValueError(\"'b' muss einen der folgenden Werte haben: 2,4,7,8,11 or 13\")\n",
    "    U = QuantumCircuit(4)\n",
    "    for _iteration in range(power):\n",
    "        if b in [2,13]:\n",
    "            U.swap(2,3)\n",
    "            U.swap(1,2)\n",
    "            U.swap(0,1)\n",
    "        if b in [7,8]:\n",
    "            U.swap(0,1)\n",
    "            U.swap(1,2)\n",
    "            U.swap(2,3)\n",
    "        if b in [4, 11]:\n",
    "            U.swap(1,3)\n",
    "            U.swap(0,2)\n",
    "        if b in [7,11,13]:\n",
    "            for q in range(4):\n",
    "                U.x(q)\n",
    "    U = U.to_gate()\n",
    "    U.name = f\"{b}^{power} mod 15\" #Siehe f-Strings in Python (ab Vers. 3.6)\n",
    "    c_U = U.control(1)\n",
    "    return c_U"
   ]
  },
  {
   "cell_type": "markdown",
   "id": "a286f35f-71e0-42e8-bcbc-34bab387d0dd",
   "metadata": {},
   "source": [
    "Erklärung:...\n",
    "\n",
    "\n",
    "Im folgenden Teil wird der Schaltkreis definiert:"
   ]
  },
  {
   "cell_type": "code",
   "execution_count": 55,
   "id": "022670df-53da-41b4-9d62-b23072eeaf39",
   "metadata": {},
   "outputs": [
    {
     "data": {
      "image/png": "[encoded data removed]",
      "text/plain": [
       "<Figure size 1625.27x785.944 with 1 Axes>"
      ]
     },
     "execution_count": 55,
     "metadata": {},
     "output_type": "execute_result"
    }
   ],
   "source": [
    "from qiskit import QuantumCircuit\n",
    "from qiskit.circuit.library import QFT\n",
    "\n",
    "L = 4; b = 7\n",
    "# Schritt (1)\n",
    "circ = QuantumCircuit(L + 4, L)\n",
    "# Schritt (2)\n",
    "for q in range(L):\n",
    "    circ.h(q)\n",
    "# Schritt (3)\n",
    "circ.x(L) \n",
    "for q in range(L):\n",
    "    circ.append(c_bmod15(b, 2**q),[q] + [L,L+1,L+2,L+3])\n",
    "# Schritt (4)\n",
    "circ.append(QFT(L), range(L))\n",
    "# Schritt (5)\n",
    "circ.measure(range(L), range(L))\n",
    "circ.draw('mpl', fold=-1)"
   ]
  },
  {
   "cell_type": "markdown",
   "id": "996e373b-9c0f-4fb8-9407-de55b1b22da6",
   "metadata": {},
   "source": [
    "Anschliessend erfolgt die Auswertung:"
   ]
  },
  {
   "cell_type": "code",
   "execution_count": 56,
   "id": "7be37fa3-93c1-484f-843a-c829710316b8",
   "metadata": {},
   "outputs": [
    {
     "name": "stdout",
     "output_type": "stream",
     "text": [
      "Die Messergebnisse als Liste =  {'0000': 236, '1000': 244, '0100': 249, '1100': 295}\n"
     ]
    },
    {
     "data": {
      "image/png": "[encoded data removed]",
      "text/plain": [
       "<Figure size 700x500 with 1 Axes>"
      ]
     },
     "execution_count": 56,
     "metadata": {},
     "output_type": "execute_result"
    }
   ],
   "source": [
    "from qiskit import QuantumCircuit, transpile\n",
    "from qiskit.visualization import plot_histogram\n",
    "from qiskit_aer import AerSimulator \n",
    "\n",
    "simulator = AerSimulator(method='statevector')\n",
    "t_circ = transpile(circ, simulator)\n",
    "counts = simulator.run(t_circ).result().get_counts()\n",
    "print('Die Messergebnisse als Liste = ', counts)\n",
    "plot_histogram(counts)"
   ]
  },
  {
   "cell_type": "code",
   "execution_count": 57,
   "id": "302e7a07-755f-4086-9f70-64638687fd26",
   "metadata": {},
   "outputs": [
    {
     "name": "stdout",
     "output_type": "stream",
     "text": [
      "0.0 --- 0 --- 1\n",
      "0.5 --- 1/2 --- 2\n",
      "0.25 --- 1/4 --- 4\n",
      "0.75 --- 3/4 --- 4\n"
     ]
    }
   ],
   "source": [
    "import numpy as np\n",
    "from fractions import Fraction\n",
    "for output in counts:\n",
    "    decimal = int(output, 2)  \n",
    "    phase = decimal/(2**L) \n",
    "    frac = Fraction(phase).limit_denominator(15)\n",
    "    print(phase,\"---\",frac, \"---\", frac.denominator)"
   ]
  },
  {
   "cell_type": "code",
   "execution_count": null,
   "id": "f13555f5-3576-469b-83f0-e8c73ff363e1",
   "metadata": {},
   "outputs": [],
   "source": []
  },
  {
   "cell_type": "markdown",
   "id": "10f367f5-1b5f-4177-87e2-2776f5c0c762",
   "metadata": {
    "editable": true,
    "slideshow": {
     "slide_type": ""
    },
    "tags": []
   },
   "source": [
    "[QFT Heise Online](https://www.heise.de/hintergrund/Quantencomputer-programmieren-Nur-eine-Phase-7358148.html?seite=2)\n",
    "\n",
    "[QFT auf MS learn](https://learn.microsoft.com/de-de/azure/quantum/tutorial-qdk-qubit-level-program?tabs=tabid-qsharp%2Ctabid-qsharp2)\n",
    "\n",
    "[IBM Phase-Estimation-and-Factoring](https://learning.quantum.ibm.com/course/fundamentals-of-quantum-algorithms/phase-estimation-and-factoring)\n",
    "\n",
    "[Quantum Computing UK](https://quantumcomputinguk.org/tutorials/quantum-fourier-transform-in-qiskit)\n",
    "\n",
    "[](https://docs.quantum.ibm.com/api/qiskit/qiskit.circuit.library.QFT)\n",
    "\n",
    "[IBM Circuit Library](https://docs.quantum.ibm.com/api/qiskit/qiskit.circuit.library.QFT)\n",
    "\n",
    "[IBM Circuit Library](https://docs.quantum.ibm.com/api/qiskit/0.24/qiskit.circuit.library.QFT)\n",
    "\n",
    "[implementing QFT](https://leftasexercise.com/2019/02/25/implementing-the-quantum-fourier-transform-with-qiskit/)\n",
    "\n",
    "[Medium QFT](https://medium.com/@_monitsharma/learn-quantum-computing-with-qiskit-quantum-fourier-transform-e27176c8f378)\n",
    "\n",
    "\n",
    "**Suchfrage:** qiskit code für quanten fourier transformation\n",
    "                        "
   ]
  },
  {
   "cell_type": "markdown",
   "id": "67d9a8b5-d3da-44d1-aa33-8ce4b4c244f3",
   "metadata": {},
   "source": [
    "Gute Erklärung [hier](https://kaustubhrakhade.medium.com/shors-factoring-algorithm-94a0796a13b1)"
   ]
  },
  {
   "cell_type": "code",
   "execution_count": null,
   "id": "0b1cda5d-4818-42de-a994-aa8e1a5d2169",
   "metadata": {},
   "outputs": [],
   "source": []
  }
 ],
 "metadata": {
  "kernelspec": {
   "display_name": "Python 3 (ipykernel)",
   "language": "python",
   "name": "python3"
  },
  "language_info": {
   "codemirror_mode": {
    "name": "ipython",
    "version": 3
   },
   "file_extension": ".py",
   "mimetype": "text/x-python",
   "name": "python",
   "nbconvert_exporter": "python",
   "pygments_lexer": "ipython3",
   "version": "3.11.11"
  }
 },
 "nbformat": 4,
 "nbformat_minor": 5
}
