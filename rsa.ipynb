{
 "cells": [
  {
   "cell_type": "markdown",
   "id": "23f5c0f6-fc64-43d2-b6f7-1993dfb98454",
   "metadata": {},
   "source": [
    "Wähle zwei Primzahlen, möglichst gross. In unserem Beispiel wählen wir $p=47$ und $q=59$. Daraus bilden wir das Produkt $n=p*q$"
   ]
  },
  {
   "cell_type": "code",
   "execution_count": 1,
   "id": "a87b39db-0b12-4b43-ae7e-38baaa23adc6",
   "metadata": {
    "tags": []
   },
   "outputs": [
    {
     "name": "stdout",
     "output_type": "stream",
     "text": [
      "Das Produkt lautet n = 2773\n"
     ]
    }
   ],
   "source": [
    "p=47\n",
    "q=59\n",
    "n=p*q\n",
    "print('Das Produkt lautet n =', n)"
   ]
  },
  {
   "cell_type": "markdown",
   "id": "90fb605a-cc59-45fe-b0fd-64c45e7fbd66",
   "metadata": {},
   "source": [
    "Berechne nun die Euler'sch $\\phi$-Funktion: $\\phi=(p-1)(q-1)$"
   ]
  },
  {
   "cell_type": "code",
   "execution_count": 2,
   "id": "92b6cf62-1568-40aa-8af3-0723aa6b2b19",
   "metadata": {
    "tags": []
   },
   "outputs": [
    {
     "name": "stdout",
     "output_type": "stream",
     "text": [
      "Der Eulersche Phi-Funktionswert lautet phi =  2668\n"
     ]
    }
   ],
   "source": [
    "phi=(p-1)*(q-1)\n",
    "print('Der Eulersche Phi-Funktionswert lautet phi = ', phi)"
   ]
  },
  {
   "cell_type": "markdown",
   "id": "bbf58d28-8a26-4a9e-9f96-39321186ad1b",
   "metadata": {},
   "source": [
    "Wähle nun eine Zahl $e$ (Primzahl), die zu $\\phi(n)$ teilerfremd ist, also weder ein Teiler von $46$ noch von $58$ ist. Wir wählen $e=17$.\n",
    "Dann löse die Gleichung:\n",
    "\n",
    "$$d\\cdot e=mod \\phi$$\n",
    "\n",
    "Das ist gleichbedeutend mit\n",
    "\n",
    "$$d=\\frac{1+(q-1)\\cdot (p-1)}{e}$$\n",
    "\n"
   ]
  },
  {
   "cell_type": "code",
   "execution_count": 3,
   "id": "0ced04b7-2d22-4bc7-949d-b19bcde8eea3",
   "metadata": {
    "tags": []
   },
   "outputs": [
    {
     "name": "stdout",
     "output_type": "stream",
     "text": [
      "Die Lösung von d*e mod phi = 1 ist: d=  157\n"
     ]
    }
   ],
   "source": [
    "e=17 # scheint nur mit 17 zu funktionieren!?\n",
    "d=(1+(q-1)*(p-1))/e\n",
    "d=int(d) # Umwandlung in Integer notwendig, sonst gibt es Rundungsfehler\n",
    "print('Die Lösung von d*e mod phi = 1 ist: d= ', d)"
   ]
  },
  {
   "cell_type": "markdown",
   "id": "54fbdc7a-344c-4d58-9a55-29a183ed2e16",
   "metadata": {},
   "source": [
    "Damit haben wir einen öffentlichen Schlüssel $(e, n)=(17, 2773)$ und einen privaten Schlüssel $(d, n)=(157, 2773)$ erzeugt.\n",
    "\n",
    "Nun verschlüsseln wir mit dem privaten Schlüssel eine Botschaft (Message) $m$, z. B. für $m=1220$.\n",
    "\n",
    "Dazu berechnen wir:\n",
    "\n",
    "$$ x=m^e mod \\quad n$$"
   ]
  },
  {
   "cell_type": "code",
   "execution_count": 4,
   "id": "942c5037-1eca-4479-85af-2888d783e3a1",
   "metadata": {
    "tags": []
   },
   "outputs": [
    {
     "name": "stdout",
     "output_type": "stream",
     "text": [
      "Die verschlüsselte Zahl ist x =  1750\n"
     ]
    }
   ],
   "source": [
    "m=1220\n",
    "x=m**e%n\n",
    "print('Die verschlüsselte Zahl ist x = ', x)"
   ]
  },
  {
   "cell_type": "markdown",
   "id": "ada4e329-d849-4744-864b-80c107a2bad2",
   "metadata": {},
   "source": [
    "Zur Entschlüsselung berechnen wir mit dem geheimen Schlüssel $(d, n)=(157, 2773)$:\n",
    "\n",
    "$$mr=x^d mod\\quad n$$"
   ]
  },
  {
   "cell_type": "code",
   "execution_count": 5,
   "id": "c9498452-c730-4d0e-b161-1011eed4a622",
   "metadata": {
    "tags": []
   },
   "outputs": [
    {
     "name": "stdout",
     "output_type": "stream",
     "text": [
      "Die rekonstruierte Zahl ist: mr =  1220\n"
     ]
    }
   ],
   "source": [
    "mr=x**d%n\n",
    "print('Die rekonstruierte Zahl ist: mr = ', mr)"
   ]
  },
  {
   "cell_type": "code",
   "execution_count": 37,
   "id": "d840de00-8c96-4b9c-ab2b-02ddf2cf4b8f",
   "metadata": {},
   "outputs": [
    {
     "name": "stdout",
     "output_type": "stream",
     "text": [
      "17 157\n"
     ]
    }
   ],
   "source": [
    "print(e, d)"
   ]
  }
 ],
 "metadata": {
  "kernelspec": {
   "display_name": "Python 3 (ipykernel)",
   "language": "python",
   "name": "python3"
  },
  "language_info": {
   "codemirror_mode": {
    "name": "ipython",
    "version": 3
   },
   "file_extension": ".py",
   "mimetype": "text/x-python",
   "name": "python",
   "nbconvert_exporter": "python",
   "pygments_lexer": "ipython3",
   "version": "3.11.4"
  }
 },
 "nbformat": 4,
 "nbformat_minor": 5
}
