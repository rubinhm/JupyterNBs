{
 "cells": [
  {
   "cell_type": "code",
   "execution_count": 1,
   "id": "f0be96e1-5c43-4321-a5ba-1cc4862ef5ad",
   "metadata": {
    "tags": []
   },
   "outputs": [],
   "source": [
    "from qiskit import QuantumCircuit, BasicAer\n",
    "backend = BasicAer.get_backend('statevector_simulator')\n"
   ]
  },
  {
   "cell_type": "code",
   "execution_count": 14,
   "id": "b9a112ff-15e3-40ed-9459-f2d569ef452c",
   "metadata": {
    "tags": []
   },
   "outputs": [
    {
     "data": {
      "image/png": "[encoded data removed]",
      "text/plain": [
       "<Figure size 287.294x200.667 with 1 Axes>"
      ]
     },
     "execution_count": 14,
     "metadata": {},
     "output_type": "execute_result"
    }
   ],
   "source": [
    "qc = QuantumCircuit(2) # Schaltkreis mit einem Qubit\n",
    "qc.initialize([0,1], 1)\n",
    "qc.h(0)\n",
    "qc.h(1)\n",
    "qc.draw('mpl') # Schaltkreis zeichnen"
   ]
  },
  {
   "cell_type": "code",
   "execution_count": 15,
   "id": "316cf202-27fe-4fb6-a03d-ac84c377a0e0",
   "metadata": {
    "tags": []
   },
   "outputs": [],
   "source": [
    "from qiskit.execute_function import execute\n",
    "job = execute(qc, backend)"
   ]
  },
  {
   "cell_type": "code",
   "execution_count": 16,
   "id": "795f9c35-dace-4a02-bb7e-3469221487ba",
   "metadata": {
    "tags": []
   },
   "outputs": [],
   "source": [
    "result = job.result() # Ergebnisausgabe"
   ]
  },
  {
   "cell_type": "code",
   "execution_count": 17,
   "id": "5d81cf32-d03d-444c-a87f-e1be72120f57",
   "metadata": {
    "tags": []
   },
   "outputs": [
    {
     "name": "stdout",
     "output_type": "stream",
     "text": [
      "[ 0.5+0.000000e+00j  0.5+0.000000e+00j -0.5-6.123234e-17j\n",
      " -0.5-6.123234e-17j]\n"
     ]
    }
   ],
   "source": [
    "state_vector = result.get_statevector()\n",
    "print(state_vector)"
   ]
  },
  {
   "cell_type": "code",
   "execution_count": null,
   "id": "a8ef2c02-82a1-497e-9d5c-12237d907a03",
   "metadata": {},
   "outputs": [],
   "source": []
  },
  {
   "cell_type": "code",
   "execution_count": null,
   "id": "8e720527-c854-46af-afc0-ae8a84a12902",
   "metadata": {},
   "outputs": [],
   "source": []
  }
 ],
 "metadata": {
  "kernelspec": {
   "display_name": "Python 3 (ipykernel)",
   "language": "python",
   "name": "python3"
  },
  "language_info": {
   "codemirror_mode": {
    "name": "ipython",
    "version": 3
   },
   "file_extension": ".py",
   "mimetype": "text/x-python",
   "name": "python",
   "nbconvert_exporter": "python",
   "pygments_lexer": "ipython3",
   "version": "3.11.4"
  },
  "widgets": {
   "application/vnd.jupyter.widget-state+json": {
    "state": {},
    "version_major": 2,
    "version_minor": 0
   }
  }
 },
 "nbformat": 4,
 "nbformat_minor": 5
}
